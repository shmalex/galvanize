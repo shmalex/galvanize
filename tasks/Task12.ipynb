{
 "cells": [
  {
   "cell_type": "markdown",
   "metadata": {},
   "source": [
    "Google decides to do random drug tests for heroin on their employees.\n",
    "   They know that 3% of their population uses heroin. The drug test has the\n",
    "   following accuracy: The test correctly identifies 95% of the\n",
    "   heroin users (sensitivity) and 90% of the non-users (specificity).\n",
    "\n",
    "   |                | Uses heroin | Doesn't use heroin |\n",
    "   | -------------- | ----------: | -----------------: |\n",
    "   | Tests positive |        0.95 |               0.10 |\n",
    "   | Tests negative |        0.05 |               0.90 |\n",
    "\n",
    "   Alice gets tested and the test comes back positive. What is the probability\n",
    "   that she uses heroin?"
   ]
  },
  {
   "cell_type": "code",
   "execution_count": 30,
   "metadata": {},
   "outputs": [
    {
     "name": "stdout",
     "output_type": "stream",
     "text": [
      "Alsize has 0.22709163346613545 chances to be heroin user\n",
      "Alsize has 0.7362338545207342 chances to be heroin user with second positive test\n",
      "Alsize has 0.01606086221470838 chances to be Non Heroin user with second negative test\n"
     ]
    }
   ],
   "source": [
    "import numpy as np\n",
    "def bayes_prob(hyp, event, not_event):\n",
    "    # probability of hypotesis\n",
    "    ph = hyp\n",
    "    # probability of not hypotesis\n",
    "    pnh = 1 - hyp\n",
    "    # probability of event given hypotesis\n",
    "    peh = event\n",
    "    # probability of event given not hypotesis\n",
    "    penh = not_event\n",
    "    \n",
    "    bayes =     (peh * ph)/ \\\n",
    "           ((ph * peh) + (pnh * penh))\n",
    "    return bayes\n",
    "\n",
    "# 3% of their population uses heroin\n",
    "drug_popul = 0.03\n",
    "# The test correctly identifies 95% of the heroin users (sensitivity) \n",
    "positive_user = .95\n",
    "# 90% of the non-users (specificity).\n",
    "positive_non_user = .1\n",
    "\n",
    "prob1 = bayes_prob(drug_popul, positive_user, positive_non_user )\n",
    "print(f'Alsize has {prob1} chances to be heroin user')\n",
    "prob2 = bayes_prob(prob1, positive_user, positive_non_user )\n",
    "print(f'Alsize has {prob2} chances to be heroin user with second positive test')\n",
    "prob3 = bayes_prob(prob1, 1-positive_user,1-positive_non_user )\n",
    "print(f'Alsize has {prob3} chances to be Non Heroin user with second negative test')"
   ]
  },
  {
   "cell_type": "markdown",
   "metadata": {},
   "source": [
    "The Birthday Problem.  Suppose there are 23 people in a data science class, lined up in a single file line.Let A_i be the event that the i'th person doesn't have the same birthday as the j'th person for any j < i. Use the chain rule from probability to calculate the probability that at least 2 people share the same birthday.\n"
   ]
  },
  {
   "cell_type": "code",
   "execution_count": 61,
   "metadata": {},
   "outputs": [
    {
     "name": "stdout",
     "output_type": "stream",
     "text": [
      "1.0\n",
      "[0.9972602739726028, 0.9945205479452055, 0.9917808219178083, 0.989041095890411, 0.9863013698630136, 0.9835616438356164, 0.9808219178082191, 0.9780821917808219, 0.9753424657534246]\n",
      "0.116948177711\n",
      "0.116948177711\n",
      "0.411438383581\n",
      "0.507297234324\n"
     ]
    }
   ],
   "source": [
    "def prob(n):\n",
    "        return (n/365)\n",
    "def prob_not(n):\n",
    "        return 1-prob(n)\n",
    "\n",
    "def bithdayProblem(n):\n",
    "    return 1-np.product([prob_not(p) for p in range(1,n)])\n",
    "print(prob(1)+prob_not(1))\n",
    "\n",
    "g = [prob_not(p) for p in range(1,10)]\n",
    "print(g)\n",
    "h = 1-np.product(g)\n",
    "print(h)\n",
    "print(bithdayProblem(10))\n",
    "print(bithdayProblem(20))\n",
    "print(bithdayProblem(23))"
   ]
  },
  {
   "cell_type": "code",
   "execution_count": null,
   "metadata": {},
   "outputs": [],
   "source": []
  }
 ],
 "metadata": {
  "kernelspec": {
   "display_name": "Python 3.6",
   "language": "python",
   "name": "python36"
  },
  "language_info": {
   "codemirror_mode": {
    "name": "ipython",
    "version": 3
   },
   "file_extension": ".py",
   "mimetype": "text/x-python",
   "name": "python",
   "nbconvert_exporter": "python",
   "pygments_lexer": "ipython3",
   "version": "3.6.3"
  }
 },
 "nbformat": 4,
 "nbformat_minor": 2
}
