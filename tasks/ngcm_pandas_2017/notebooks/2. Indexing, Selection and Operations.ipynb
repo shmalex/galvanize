{
 "cells": [
  {
   "cell_type": "markdown",
   "metadata": {},
   "source": [
    "# Indexing, Selection, and Operations\n",
    "\n",
    "Now that we are familiar with pandas' data structures, we can turn our attention to some of the intermediate features of data frames, which include:\n",
    "    \n",
    "- Intelligent label-based **slicing, fancy indexing, and subsetting** of large data sets\n",
    "- **Hierarchical labeling** of axes\n",
    "- **Sorting and ranking** of data in DataFrames\n",
    "- Easy handling of **missing data**\n",
    "- Data **summarization** tools"
   ]
  },
  {
   "cell_type": "markdown",
   "metadata": {},
   "source": [
    "In this section, we will manipulate data collected from ocean-going vessels on the eastern seaboard. Vessel operations are monitored using the **Automatic Identification System (AIS)**, a safety at sea navigation technology which vessels are required to maintain and that uses transponders to transmit very high frequency (VHF) radio signals containing static information including ship name, call sign, and country of origin, as well as dynamic information unique to a particular voyage such as vessel location, heading, and speed. \n",
    "\n",
    "![AIS](images/ais.gif)\n",
    "\n",
    "The International Maritime Organization’s (IMO) International Convention for the Safety of Life at Sea requires functioning AIS capabilities on all vessels 300 gross tons or greater and the US Coast Guard requires AIS on nearly all vessels sailing in U.S. waters. The Coast Guard has established a national network of AIS receivers that provides coverage of nearly all U.S. waters. **AIS signals** are transmitted several times each minute and the network is capable of handling thousands of reports per minute and updates as often as every two seconds. Therefore, a typical voyage in our study might include the transmission of hundreds or thousands of AIS encoded signals. This provides a rich source of spatial data that includes both **spatial and temporal information**.\n",
    "\n",
    "For our purposes, we will use **summarized data** that describes the transit of a given vessel through a particular administrative area. The data includes the start and end time of the transit segment, as well as information about the speed of the vessel, how far it travelled, etc."
   ]
  },
  {
   "cell_type": "code",
   "execution_count": 1,
   "metadata": {
    "collapsed": true
   },
   "outputs": [],
   "source": [
    "import pandas as pd\n",
    "import numpy as np\n",
    "\n",
    "vessels = pd.read_csv('../data/AIS/vessel_information.csv', index_col=0)"
   ]
  },
  {
   "cell_type": "markdown",
   "metadata": {},
   "source": [
    "## Indexing and Selection\n",
    "\n",
    "Indexing works analogously to indexing in NumPy arrays, except we can use the labels in the `Index` object to extract values in addition to arrays of integers."
   ]
  },
  {
   "cell_type": "code",
   "execution_count": 2,
   "metadata": {},
   "outputs": [
    {
     "data": {
      "text/plain": [
       "mmsi\n",
       "1                                               Unknown\n",
       "9                                               Unknown\n",
       "21                                              Unknown\n",
       "74                                              Unknown\n",
       "103                                             Unknown\n",
       "310                                            Bermuda \n",
       "3011                                          Anguilla \n",
       "4731                               Yemen (Republic of) \n",
       "15151                                           Unknown\n",
       "46809                             Syrian Arab Republic \n",
       "80404                                           Unknown\n",
       "82003                                           Unknown\n",
       "298716                                          Unknown\n",
       "366235                        United States of America \n",
       "439541                                          Unknown\n",
       "453556                                          Unknown\n",
       "505843                                          Unknown\n",
       "527918                                          Unknown\n",
       "565026                          Singapore (Republic of)\n",
       "572329                                          Tuvalu \n",
       "587370                                          Unknown\n",
       "641114                                          Unknown\n",
       "642262       Socialist People's Libyan Arab Jamahiriya \n",
       "693559                                          Unknown\n",
       "883085                                          Unknown\n",
       "1193046                                         Unknown\n",
       "1193946                                         Unknown\n",
       "1233916                                         Unknown\n",
       "1239468                                         Unknown\n",
       "3041300                            Antigua and Barbuda \n",
       "                                ...                    \n",
       "720728000                        Bolivia (Republic of) \n",
       "720754000                        Bolivia (Republic of) \n",
       "720768000                        Bolivia (Republic of) \n",
       "725004700                                        Chile \n",
       "725005560                                        Chile \n",
       "725005570                                        Chile \n",
       "725011300                                        Chile \n",
       "725018300                                        Chile \n",
       "725019006                                        Chile \n",
       "725021000                                        Chile \n",
       "725022000                                        Chile \n",
       "730000161                       Colombia (Republic of) \n",
       "730010001                       Colombia (Republic of) \n",
       "730026000                       Colombia (Republic of) \n",
       "730031000                       Colombia (Republic of) \n",
       "735057548                                      Ecuador \n",
       "735059037                                      Ecuador \n",
       "760101000                                         Peru \n",
       "770576100                Uruguay (Eastern Republic of) \n",
       "812719000                                       Unknown\n",
       "857632392                                       Unknown\n",
       "866946820                                       Unknown\n",
       "888888882                                       Unknown\n",
       "888888888                                       Unknown\n",
       "900000000                                       Unknown\n",
       "919191919                                       Unknown\n",
       "967191190                                       Unknown\n",
       "975318642                                       Unknown\n",
       "987654321                                       Unknown\n",
       "999999999                                       Unknown\n",
       "Name: flag, Length: 10771, dtype: object"
      ]
     },
     "execution_count": 2,
     "metadata": {},
     "output_type": "execute_result"
    }
   ],
   "source": [
    "# Sample Series object\n",
    "flag = vessels.flag\n",
    "flag"
   ]
  },
  {
   "cell_type": "code",
   "execution_count": 3,
   "metadata": {},
   "outputs": [
    {
     "data": {
      "text/plain": [
       "mmsi\n",
       "1                      Unknown\n",
       "9                      Unknown\n",
       "21                     Unknown\n",
       "74                     Unknown\n",
       "103                    Unknown\n",
       "310                   Bermuda \n",
       "3011                 Anguilla \n",
       "4731      Yemen (Republic of) \n",
       "15151                  Unknown\n",
       "46809    Syrian Arab Republic \n",
       "Name: flag, dtype: object"
      ]
     },
     "execution_count": 3,
     "metadata": {},
     "output_type": "execute_result"
    }
   ],
   "source": [
    "# Numpy-style indexing\n",
    "flag[:10]"
   ]
  },
  {
   "cell_type": "code",
   "execution_count": 4,
   "metadata": {},
   "outputs": [
    {
     "data": {
      "text/plain": [
       "mmsi\n",
       "298716       Unknown\n",
       "725011300     Chile \n",
       "Name: flag, dtype: object"
      ]
     },
     "execution_count": 4,
     "metadata": {},
     "output_type": "execute_result"
    }
   ],
   "source": [
    "# Indexing by label\n",
    "flag[[298716,725011300]]"
   ]
  },
  {
   "cell_type": "markdown",
   "metadata": {},
   "source": [
    "In a `DataFrame` we can slice along either or both axes:"
   ]
  },
  {
   "cell_type": "code",
   "execution_count": 6,
   "metadata": {},
   "outputs": [
    {
     "data": {
      "text/html": [
       "<div>\n",
       "<style>\n",
       "    .dataframe thead tr:only-child th {\n",
       "        text-align: right;\n",
       "    }\n",
       "\n",
       "    .dataframe thead th {\n",
       "        text-align: left;\n",
       "    }\n",
       "\n",
       "    .dataframe tbody tr th {\n",
       "        vertical-align: top;\n",
       "    }\n",
       "</style>\n",
       "<table border=\"1\" class=\"dataframe\">\n",
       "  <thead>\n",
       "    <tr style=\"text-align: right;\">\n",
       "      <th></th>\n",
       "      <th>num_names</th>\n",
       "      <th>num_types</th>\n",
       "    </tr>\n",
       "    <tr>\n",
       "      <th>mmsi</th>\n",
       "      <th></th>\n",
       "      <th></th>\n",
       "    </tr>\n",
       "  </thead>\n",
       "  <tbody>\n",
       "    <tr>\n",
       "      <th>1</th>\n",
       "      <td>8</td>\n",
       "      <td>4</td>\n",
       "    </tr>\n",
       "    <tr>\n",
       "      <th>9</th>\n",
       "      <td>3</td>\n",
       "      <td>2</td>\n",
       "    </tr>\n",
       "    <tr>\n",
       "      <th>21</th>\n",
       "      <td>1</td>\n",
       "      <td>1</td>\n",
       "    </tr>\n",
       "    <tr>\n",
       "      <th>74</th>\n",
       "      <td>2</td>\n",
       "      <td>1</td>\n",
       "    </tr>\n",
       "    <tr>\n",
       "      <th>103</th>\n",
       "      <td>3</td>\n",
       "      <td>2</td>\n",
       "    </tr>\n",
       "  </tbody>\n",
       "</table>\n",
       "</div>"
      ],
      "text/plain": [
       "      num_names  num_types\n",
       "mmsi                      \n",
       "1             8          4\n",
       "9             3          2\n",
       "21            1          1\n",
       "74            2          1\n",
       "103           3          2"
      ]
     },
     "execution_count": 6,
     "metadata": {},
     "output_type": "execute_result"
    }
   ],
   "source": [
    "vessels[['num_names','num_types']].head()"
   ]
  },
  {
   "cell_type": "code",
   "execution_count": 7,
   "metadata": {},
   "outputs": [
    {
     "data": {
      "text/html": [
       "<div>\n",
       "<style>\n",
       "    .dataframe thead tr:only-child th {\n",
       "        text-align: right;\n",
       "    }\n",
       "\n",
       "    .dataframe thead th {\n",
       "        text-align: left;\n",
       "    }\n",
       "\n",
       "    .dataframe tbody tr th {\n",
       "        vertical-align: top;\n",
       "    }\n",
       "</style>\n",
       "<table border=\"1\" class=\"dataframe\">\n",
       "  <thead>\n",
       "    <tr style=\"text-align: right;\">\n",
       "      <th></th>\n",
       "      <th>num_names</th>\n",
       "      <th>names</th>\n",
       "      <th>sov</th>\n",
       "      <th>flag</th>\n",
       "      <th>flag_type</th>\n",
       "      <th>num_loas</th>\n",
       "      <th>loa</th>\n",
       "      <th>max_loa</th>\n",
       "      <th>num_types</th>\n",
       "      <th>type</th>\n",
       "    </tr>\n",
       "    <tr>\n",
       "      <th>mmsi</th>\n",
       "      <th></th>\n",
       "      <th></th>\n",
       "      <th></th>\n",
       "      <th></th>\n",
       "      <th></th>\n",
       "      <th></th>\n",
       "      <th></th>\n",
       "      <th></th>\n",
       "      <th></th>\n",
       "      <th></th>\n",
       "    </tr>\n",
       "  </thead>\n",
       "  <tbody>\n",
       "    <tr>\n",
       "      <th>211311970</th>\n",
       "      <td>2</td>\n",
       "      <td>Antwerpen Express/Dallas Express</td>\n",
       "      <td>N</td>\n",
       "      <td>Germany (Federal Republic of)</td>\n",
       "      <td>Foreign</td>\n",
       "      <td>3</td>\n",
       "      <td>294.0/512.0/806.0</td>\n",
       "      <td>806.0</td>\n",
       "      <td>1</td>\n",
       "      <td>Cargo</td>\n",
       "    </tr>\n",
       "    <tr>\n",
       "      <th>218292000</th>\n",
       "      <td>1</td>\n",
       "      <td>Seapike</td>\n",
       "      <td>N</td>\n",
       "      <td>Germany (Federal Republic of)</td>\n",
       "      <td>Foreign</td>\n",
       "      <td>3</td>\n",
       "      <td>199.0/200.0/711.0</td>\n",
       "      <td>711.0</td>\n",
       "      <td>1</td>\n",
       "      <td>Tanker</td>\n",
       "    </tr>\n",
       "    <tr>\n",
       "      <th>235760000</th>\n",
       "      <td>1</td>\n",
       "      <td>Methane Princess</td>\n",
       "      <td>N</td>\n",
       "      <td>United Kingdom of Great Britain and Northern I...</td>\n",
       "      <td>Foreign</td>\n",
       "      <td>2</td>\n",
       "      <td>277.0/789.0</td>\n",
       "      <td>789.0</td>\n",
       "      <td>1</td>\n",
       "      <td>Tanker</td>\n",
       "    </tr>\n",
       "    <tr>\n",
       "      <th>354092000</th>\n",
       "      <td>1</td>\n",
       "      <td>Msc Laura</td>\n",
       "      <td>N</td>\n",
       "      <td>Panama (Republic of)</td>\n",
       "      <td>Foreign</td>\n",
       "      <td>3</td>\n",
       "      <td>300.0/301.0/812.0</td>\n",
       "      <td>812.0</td>\n",
       "      <td>1</td>\n",
       "      <td>Cargo</td>\n",
       "    </tr>\n",
       "    <tr>\n",
       "      <th>538090124</th>\n",
       "      <td>1</td>\n",
       "      <td>Pacific Destiny</td>\n",
       "      <td>N</td>\n",
       "      <td>Marshall Islands (Republic of the)</td>\n",
       "      <td>Foreign</td>\n",
       "      <td>2</td>\n",
       "      <td>196.0/708.0</td>\n",
       "      <td>708.0</td>\n",
       "      <td>1</td>\n",
       "      <td>Cargo</td>\n",
       "    </tr>\n",
       "  </tbody>\n",
       "</table>\n",
       "</div>"
      ],
      "text/plain": [
       "           num_names                             names sov  \\\n",
       "mmsi                                                         \n",
       "211311970          2  Antwerpen Express/Dallas Express   N   \n",
       "218292000          1                           Seapike   N   \n",
       "235760000          1                  Methane Princess   N   \n",
       "354092000          1                         Msc Laura   N   \n",
       "538090124          1                   Pacific Destiny   N   \n",
       "\n",
       "                                                        flag flag_type  \\\n",
       "mmsi                                                                     \n",
       "211311970                     Germany (Federal Republic of)    Foreign   \n",
       "218292000                     Germany (Federal Republic of)    Foreign   \n",
       "235760000  United Kingdom of Great Britain and Northern I...   Foreign   \n",
       "354092000                              Panama (Republic of)    Foreign   \n",
       "538090124                Marshall Islands (Republic of the)    Foreign   \n",
       "\n",
       "           num_loas                loa  max_loa  num_types    type  \n",
       "mmsi                                                                \n",
       "211311970         3  294.0/512.0/806.0    806.0          1   Cargo  \n",
       "218292000         3  199.0/200.0/711.0    711.0          1  Tanker  \n",
       "235760000         2        277.0/789.0    789.0          1  Tanker  \n",
       "354092000         3  300.0/301.0/812.0    812.0          1   Cargo  \n",
       "538090124         2        196.0/708.0    708.0          1   Cargo  "
      ]
     },
     "execution_count": 7,
     "metadata": {},
     "output_type": "execute_result"
    }
   ],
   "source": [
    "vessels[vessels.max_loa>700]"
   ]
  },
  {
   "cell_type": "markdown",
   "metadata": {},
   "source": [
    "The indexing field `loc` allows us to select subsets of rows and columns in an intuitive way:"
   ]
  },
  {
   "cell_type": "code",
   "execution_count": 8,
   "metadata": {},
   "outputs": [
    {
     "data": {
      "text/plain": [
       "names             Rusty Pelican\n",
       "flag     Bolivia (Republic of) \n",
       "type                     Towing\n",
       "Name: 720768000, dtype: object"
      ]
     },
     "execution_count": 8,
     "metadata": {},
     "output_type": "execute_result"
    }
   ],
   "source": [
    "vessels.loc[720768000, ['names','flag', 'type']]"
   ]
  },
  {
   "cell_type": "code",
   "execution_count": 9,
   "metadata": {},
   "outputs": [
    {
     "data": {
      "text/plain": [
       "mmsi\n",
       "1       Bil Holman Dredge/Dredge Capt Frank/Emo/Offsho...\n",
       "9                              000000009/Raven/Shearwater\n",
       "21                                          Us Gov Vessel\n",
       "74                                      Mcfaul/Sarah Bell\n",
       "103              Ron G/Us Navy Warship 103/Us Warship 103\n",
       "310                                              Arabella\n",
       "3011                                           Charleston\n",
       "4731                                            000004731\n",
       "Name: names, dtype: object"
      ]
     },
     "execution_count": 9,
     "metadata": {},
     "output_type": "execute_result"
    }
   ],
   "source": [
    "vessels.loc[:4731, 'names']"
   ]
  },
  {
   "cell_type": "markdown",
   "metadata": {},
   "source": [
    "Slicing also works with string variables, since an index has an intrinsic order, regardless of label:"
   ]
  },
  {
   "cell_type": "code",
   "execution_count": 10,
   "metadata": {},
   "outputs": [
    {
     "data": {
      "text/html": [
       "<div>\n",
       "<style>\n",
       "    .dataframe thead tr:only-child th {\n",
       "        text-align: right;\n",
       "    }\n",
       "\n",
       "    .dataframe thead th {\n",
       "        text-align: left;\n",
       "    }\n",
       "\n",
       "    .dataframe tbody tr th {\n",
       "        vertical-align: top;\n",
       "    }\n",
       "</style>\n",
       "<table border=\"1\" class=\"dataframe\">\n",
       "  <thead>\n",
       "    <tr style=\"text-align: right;\">\n",
       "      <th></th>\n",
       "      <th>flag</th>\n",
       "      <th>flag_type</th>\n",
       "      <th>num_loas</th>\n",
       "      <th>loa</th>\n",
       "    </tr>\n",
       "    <tr>\n",
       "      <th>mmsi</th>\n",
       "      <th></th>\n",
       "      <th></th>\n",
       "      <th></th>\n",
       "      <th></th>\n",
       "    </tr>\n",
       "  </thead>\n",
       "  <tbody>\n",
       "    <tr>\n",
       "      <th>1</th>\n",
       "      <td>Unknown</td>\n",
       "      <td>Unknown</td>\n",
       "      <td>7</td>\n",
       "      <td>42.0/48.0/57.0/90.0/138.0/154.0/156.0</td>\n",
       "    </tr>\n",
       "    <tr>\n",
       "      <th>9</th>\n",
       "      <td>Unknown</td>\n",
       "      <td>Unknown</td>\n",
       "      <td>2</td>\n",
       "      <td>50.0/62.0</td>\n",
       "    </tr>\n",
       "    <tr>\n",
       "      <th>21</th>\n",
       "      <td>Unknown</td>\n",
       "      <td>Unknown</td>\n",
       "      <td>1</td>\n",
       "      <td>208.0</td>\n",
       "    </tr>\n",
       "    <tr>\n",
       "      <th>74</th>\n",
       "      <td>Unknown</td>\n",
       "      <td>Unknown</td>\n",
       "      <td>1</td>\n",
       "      <td>155.0</td>\n",
       "    </tr>\n",
       "    <tr>\n",
       "      <th>103</th>\n",
       "      <td>Unknown</td>\n",
       "      <td>Unknown</td>\n",
       "      <td>2</td>\n",
       "      <td>26.0/155.0</td>\n",
       "    </tr>\n",
       "    <tr>\n",
       "      <th>310</th>\n",
       "      <td>Bermuda</td>\n",
       "      <td>Foreign</td>\n",
       "      <td>1</td>\n",
       "      <td>47.0</td>\n",
       "    </tr>\n",
       "  </tbody>\n",
       "</table>\n",
       "</div>"
      ],
      "text/plain": [
       "          flag flag_type  num_loas                                    loa\n",
       "mmsi                                                                     \n",
       "1      Unknown   Unknown         7  42.0/48.0/57.0/90.0/138.0/154.0/156.0\n",
       "9      Unknown   Unknown         2                              50.0/62.0\n",
       "21     Unknown   Unknown         1                                  208.0\n",
       "74     Unknown   Unknown         1                                  155.0\n",
       "103    Unknown   Unknown         2                             26.0/155.0\n",
       "310   Bermuda    Foreign         1                                   47.0"
      ]
     },
     "execution_count": 10,
     "metadata": {},
     "output_type": "execute_result"
    }
   ],
   "source": [
    "vessels.loc[:310, 'flag':'loa']"
   ]
  },
  {
   "cell_type": "markdown",
   "metadata": {},
   "source": [
    "In addition to using `loc` to select rows and columns by **label**, pandas also allows indexing by **position** using the `iloc` attribute.\n",
    "\n",
    "So, we can query rows and columns by absolute position, rather than by name:"
   ]
  },
  {
   "cell_type": "code",
   "execution_count": 11,
   "metadata": {},
   "outputs": [
    {
     "data": {
      "text/html": [
       "<div>\n",
       "<style>\n",
       "    .dataframe thead tr:only-child th {\n",
       "        text-align: right;\n",
       "    }\n",
       "\n",
       "    .dataframe thead th {\n",
       "        text-align: left;\n",
       "    }\n",
       "\n",
       "    .dataframe tbody tr th {\n",
       "        vertical-align: top;\n",
       "    }\n",
       "</style>\n",
       "<table border=\"1\" class=\"dataframe\">\n",
       "  <thead>\n",
       "    <tr style=\"text-align: right;\">\n",
       "      <th></th>\n",
       "      <th>num_loas</th>\n",
       "      <th>loa</th>\n",
       "      <th>max_loa</th>\n",
       "    </tr>\n",
       "    <tr>\n",
       "      <th>mmsi</th>\n",
       "      <th></th>\n",
       "      <th></th>\n",
       "      <th></th>\n",
       "    </tr>\n",
       "  </thead>\n",
       "  <tbody>\n",
       "    <tr>\n",
       "      <th>1</th>\n",
       "      <td>7</td>\n",
       "      <td>42.0/48.0/57.0/90.0/138.0/154.0/156.0</td>\n",
       "      <td>156.0</td>\n",
       "    </tr>\n",
       "    <tr>\n",
       "      <th>9</th>\n",
       "      <td>2</td>\n",
       "      <td>50.0/62.0</td>\n",
       "      <td>62.0</td>\n",
       "    </tr>\n",
       "    <tr>\n",
       "      <th>21</th>\n",
       "      <td>1</td>\n",
       "      <td>208.0</td>\n",
       "      <td>208.0</td>\n",
       "    </tr>\n",
       "    <tr>\n",
       "      <th>74</th>\n",
       "      <td>1</td>\n",
       "      <td>155.0</td>\n",
       "      <td>155.0</td>\n",
       "    </tr>\n",
       "    <tr>\n",
       "      <th>103</th>\n",
       "      <td>2</td>\n",
       "      <td>26.0/155.0</td>\n",
       "      <td>155.0</td>\n",
       "    </tr>\n",
       "  </tbody>\n",
       "</table>\n",
       "</div>"
      ],
      "text/plain": [
       "      num_loas                                    loa  max_loa\n",
       "mmsi                                                          \n",
       "1            7  42.0/48.0/57.0/90.0/138.0/154.0/156.0    156.0\n",
       "9            2                              50.0/62.0     62.0\n",
       "21           1                                  208.0    208.0\n",
       "74           1                                  155.0    155.0\n",
       "103          2                             26.0/155.0    155.0"
      ]
     },
     "execution_count": 11,
     "metadata": {},
     "output_type": "execute_result"
    }
   ],
   "source": [
    "vessels.iloc[:5, 5:8]"
   ]
  },
  {
   "cell_type": "markdown",
   "metadata": {},
   "source": [
    "### Exercise\n",
    "\n",
    "You can use the `isin` method query a DataFrame based upon a list of values as follows: \n",
    "\n",
    "    data['color'].isin(['red', 'blue'])\n",
    "\n",
    "Use `isin` to find all ships that registered in either Denmark or Japan. How many records contain these values?"
   ]
  },
  {
   "cell_type": "code",
   "execution_count": 12,
   "metadata": {
    "collapsed": true
   },
   "outputs": [],
   "source": [
    "# Write your answer here"
   ]
  },
  {
   "cell_type": "markdown",
   "metadata": {},
   "source": [
    "## Indexing with `where`\n",
    "\n",
    "Pandas `DataFrame` objects also posess a `where` index for indexing that returns the values that satisfy the condition, but retain the index of the original `DataFrame`, so that the shape does not change. This is important when **alignment** is required for operations between `DataFrame`s."
   ]
  },
  {
   "cell_type": "code",
   "execution_count": 13,
   "metadata": {},
   "outputs": [
    {
     "data": {
      "text/html": [
       "<div>\n",
       "<style>\n",
       "    .dataframe thead tr:only-child th {\n",
       "        text-align: right;\n",
       "    }\n",
       "\n",
       "    .dataframe thead th {\n",
       "        text-align: left;\n",
       "    }\n",
       "\n",
       "    .dataframe tbody tr th {\n",
       "        vertical-align: top;\n",
       "    }\n",
       "</style>\n",
       "<table border=\"1\" class=\"dataframe\">\n",
       "  <thead>\n",
       "    <tr style=\"text-align: right;\">\n",
       "      <th></th>\n",
       "      <th>x0</th>\n",
       "      <th>x1</th>\n",
       "      <th>x2</th>\n",
       "      <th>x3</th>\n",
       "      <th>x4</th>\n",
       "    </tr>\n",
       "  </thead>\n",
       "  <tbody>\n",
       "    <tr>\n",
       "      <th>0</th>\n",
       "      <td>0.496714</td>\n",
       "      <td>-1.415371</td>\n",
       "      <td>0.357787</td>\n",
       "      <td>-0.828995</td>\n",
       "      <td>-1.594428</td>\n",
       "    </tr>\n",
       "    <tr>\n",
       "      <th>1</th>\n",
       "      <td>-0.138264</td>\n",
       "      <td>-0.420645</td>\n",
       "      <td>0.560785</td>\n",
       "      <td>-0.560181</td>\n",
       "      <td>-0.599375</td>\n",
       "    </tr>\n",
       "    <tr>\n",
       "      <th>2</th>\n",
       "      <td>0.647689</td>\n",
       "      <td>-0.342715</td>\n",
       "      <td>1.083051</td>\n",
       "      <td>0.747294</td>\n",
       "      <td>0.005244</td>\n",
       "    </tr>\n",
       "    <tr>\n",
       "      <th>3</th>\n",
       "      <td>1.523030</td>\n",
       "      <td>-0.802277</td>\n",
       "      <td>1.053802</td>\n",
       "      <td>0.610370</td>\n",
       "      <td>0.046981</td>\n",
       "    </tr>\n",
       "    <tr>\n",
       "      <th>4</th>\n",
       "      <td>-0.234153</td>\n",
       "      <td>-0.161286</td>\n",
       "      <td>-1.377669</td>\n",
       "      <td>-0.020902</td>\n",
       "      <td>-0.450065</td>\n",
       "    </tr>\n",
       "  </tbody>\n",
       "</table>\n",
       "</div>"
      ],
      "text/plain": [
       "         x0        x1        x2        x3        x4\n",
       "0  0.496714 -1.415371  0.357787 -0.828995 -1.594428\n",
       "1 -0.138264 -0.420645  0.560785 -0.560181 -0.599375\n",
       "2  0.647689 -0.342715  1.083051  0.747294  0.005244\n",
       "3  1.523030 -0.802277  1.053802  0.610370  0.046981\n",
       "4 -0.234153 -0.161286 -1.377669 -0.020902 -0.450065"
      ]
     },
     "execution_count": 13,
     "metadata": {},
     "output_type": "execute_result"
    }
   ],
   "source": [
    "np.random.seed(42)\n",
    "normal_vals = pd.DataFrame({'x{}'.format(i):np.random.randn(100) for i in range(5)})\n",
    "\n",
    "normal_vals.head()"
   ]
  },
  {
   "cell_type": "code",
   "execution_count": 14,
   "metadata": {},
   "outputs": [
    {
     "data": {
      "text/html": [
       "<div>\n",
       "<style>\n",
       "    .dataframe thead tr:only-child th {\n",
       "        text-align: right;\n",
       "    }\n",
       "\n",
       "    .dataframe thead th {\n",
       "        text-align: left;\n",
       "    }\n",
       "\n",
       "    .dataframe tbody tr th {\n",
       "        vertical-align: top;\n",
       "    }\n",
       "</style>\n",
       "<table border=\"1\" class=\"dataframe\">\n",
       "  <thead>\n",
       "    <tr style=\"text-align: right;\">\n",
       "      <th></th>\n",
       "      <th>x0</th>\n",
       "      <th>x1</th>\n",
       "      <th>x2</th>\n",
       "      <th>x3</th>\n",
       "      <th>x4</th>\n",
       "    </tr>\n",
       "  </thead>\n",
       "  <tbody>\n",
       "    <tr>\n",
       "      <th>0</th>\n",
       "      <td>0.496714</td>\n",
       "      <td>NaN</td>\n",
       "      <td>0.357787</td>\n",
       "      <td>NaN</td>\n",
       "      <td>NaN</td>\n",
       "    </tr>\n",
       "    <tr>\n",
       "      <th>1</th>\n",
       "      <td>NaN</td>\n",
       "      <td>NaN</td>\n",
       "      <td>0.560785</td>\n",
       "      <td>NaN</td>\n",
       "      <td>NaN</td>\n",
       "    </tr>\n",
       "    <tr>\n",
       "      <th>2</th>\n",
       "      <td>0.647689</td>\n",
       "      <td>NaN</td>\n",
       "      <td>1.083051</td>\n",
       "      <td>0.747294</td>\n",
       "      <td>0.005244</td>\n",
       "    </tr>\n",
       "    <tr>\n",
       "      <th>3</th>\n",
       "      <td>1.523030</td>\n",
       "      <td>NaN</td>\n",
       "      <td>1.053802</td>\n",
       "      <td>0.610370</td>\n",
       "      <td>0.046981</td>\n",
       "    </tr>\n",
       "    <tr>\n",
       "      <th>4</th>\n",
       "      <td>NaN</td>\n",
       "      <td>NaN</td>\n",
       "      <td>NaN</td>\n",
       "      <td>NaN</td>\n",
       "      <td>NaN</td>\n",
       "    </tr>\n",
       "  </tbody>\n",
       "</table>\n",
       "</div>"
      ],
      "text/plain": [
       "         x0  x1        x2        x3        x4\n",
       "0  0.496714 NaN  0.357787       NaN       NaN\n",
       "1       NaN NaN  0.560785       NaN       NaN\n",
       "2  0.647689 NaN  1.083051  0.747294  0.005244\n",
       "3  1.523030 NaN  1.053802  0.610370  0.046981\n",
       "4       NaN NaN       NaN       NaN       NaN"
      ]
     },
     "execution_count": 14,
     "metadata": {},
     "output_type": "execute_result"
    }
   ],
   "source": [
    "normal_vals.where(normal_vals>0).head()"
   ]
  },
  {
   "cell_type": "markdown",
   "metadata": {},
   "source": [
    "`where` includes an optional `other` argument that accepts a scalar or tabular values (or a callable) to replace values in the `DataFrame` that do not satisfy the condition.\n",
    "\n",
    "For example, we can use this to return the absolute values of `X`:"
   ]
  },
  {
   "cell_type": "code",
   "execution_count": 15,
   "metadata": {},
   "outputs": [
    {
     "data": {
      "text/html": [
       "<div>\n",
       "<style>\n",
       "    .dataframe thead tr:only-child th {\n",
       "        text-align: right;\n",
       "    }\n",
       "\n",
       "    .dataframe thead th {\n",
       "        text-align: left;\n",
       "    }\n",
       "\n",
       "    .dataframe tbody tr th {\n",
       "        vertical-align: top;\n",
       "    }\n",
       "</style>\n",
       "<table border=\"1\" class=\"dataframe\">\n",
       "  <thead>\n",
       "    <tr style=\"text-align: right;\">\n",
       "      <th></th>\n",
       "      <th>x0</th>\n",
       "      <th>x1</th>\n",
       "      <th>x2</th>\n",
       "      <th>x3</th>\n",
       "      <th>x4</th>\n",
       "    </tr>\n",
       "  </thead>\n",
       "  <tbody>\n",
       "    <tr>\n",
       "      <th>0</th>\n",
       "      <td>0.496714</td>\n",
       "      <td>1.415371</td>\n",
       "      <td>0.357787</td>\n",
       "      <td>0.828995</td>\n",
       "      <td>1.594428</td>\n",
       "    </tr>\n",
       "    <tr>\n",
       "      <th>1</th>\n",
       "      <td>0.138264</td>\n",
       "      <td>0.420645</td>\n",
       "      <td>0.560785</td>\n",
       "      <td>0.560181</td>\n",
       "      <td>0.599375</td>\n",
       "    </tr>\n",
       "    <tr>\n",
       "      <th>2</th>\n",
       "      <td>0.647689</td>\n",
       "      <td>0.342715</td>\n",
       "      <td>1.083051</td>\n",
       "      <td>0.747294</td>\n",
       "      <td>0.005244</td>\n",
       "    </tr>\n",
       "    <tr>\n",
       "      <th>3</th>\n",
       "      <td>1.523030</td>\n",
       "      <td>0.802277</td>\n",
       "      <td>1.053802</td>\n",
       "      <td>0.610370</td>\n",
       "      <td>0.046981</td>\n",
       "    </tr>\n",
       "    <tr>\n",
       "      <th>4</th>\n",
       "      <td>0.234153</td>\n",
       "      <td>0.161286</td>\n",
       "      <td>1.377669</td>\n",
       "      <td>0.020902</td>\n",
       "      <td>0.450065</td>\n",
       "    </tr>\n",
       "  </tbody>\n",
       "</table>\n",
       "</div>"
      ],
      "text/plain": [
       "         x0        x1        x2        x3        x4\n",
       "0  0.496714  1.415371  0.357787  0.828995  1.594428\n",
       "1  0.138264  0.420645  0.560785  0.560181  0.599375\n",
       "2  0.647689  0.342715  1.083051  0.747294  0.005244\n",
       "3  1.523030  0.802277  1.053802  0.610370  0.046981\n",
       "4  0.234153  0.161286  1.377669  0.020902  0.450065"
      ]
     },
     "execution_count": 15,
     "metadata": {},
     "output_type": "execute_result"
    }
   ],
   "source": [
    "normal_vals.where(normal_vals>0, other=-normal_vals).head()"
   ]
  },
  {
   "cell_type": "markdown",
   "metadata": {},
   "source": [
    "Similarly, a callable can be used when we need to modify the replaced value:"
   ]
  },
  {
   "cell_type": "code",
   "execution_count": 16,
   "metadata": {},
   "outputs": [
    {
     "data": {
      "text/html": [
       "<div>\n",
       "<style>\n",
       "    .dataframe thead tr:only-child th {\n",
       "        text-align: right;\n",
       "    }\n",
       "\n",
       "    .dataframe thead th {\n",
       "        text-align: left;\n",
       "    }\n",
       "\n",
       "    .dataframe tbody tr th {\n",
       "        vertical-align: top;\n",
       "    }\n",
       "</style>\n",
       "<table border=\"1\" class=\"dataframe\">\n",
       "  <thead>\n",
       "    <tr style=\"text-align: right;\">\n",
       "      <th></th>\n",
       "      <th>x0</th>\n",
       "      <th>x1</th>\n",
       "      <th>x2</th>\n",
       "      <th>x3</th>\n",
       "      <th>x4</th>\n",
       "    </tr>\n",
       "  </thead>\n",
       "  <tbody>\n",
       "    <tr>\n",
       "      <th>0</th>\n",
       "      <td>0.496714</td>\n",
       "      <td>141.537074</td>\n",
       "      <td>0.357787</td>\n",
       "      <td>82.899501</td>\n",
       "      <td>159.442766</td>\n",
       "    </tr>\n",
       "    <tr>\n",
       "      <th>1</th>\n",
       "      <td>13.826430</td>\n",
       "      <td>42.064532</td>\n",
       "      <td>0.560785</td>\n",
       "      <td>56.018104</td>\n",
       "      <td>59.937502</td>\n",
       "    </tr>\n",
       "    <tr>\n",
       "      <th>2</th>\n",
       "      <td>0.647689</td>\n",
       "      <td>34.271452</td>\n",
       "      <td>1.083051</td>\n",
       "      <td>0.747294</td>\n",
       "      <td>0.005244</td>\n",
       "    </tr>\n",
       "    <tr>\n",
       "      <th>3</th>\n",
       "      <td>1.523030</td>\n",
       "      <td>80.227727</td>\n",
       "      <td>1.053802</td>\n",
       "      <td>0.610370</td>\n",
       "      <td>0.046981</td>\n",
       "    </tr>\n",
       "    <tr>\n",
       "      <th>4</th>\n",
       "      <td>23.415337</td>\n",
       "      <td>16.128571</td>\n",
       "      <td>137.766937</td>\n",
       "      <td>2.090159</td>\n",
       "      <td>45.006547</td>\n",
       "    </tr>\n",
       "  </tbody>\n",
       "</table>\n",
       "</div>"
      ],
      "text/plain": [
       "          x0          x1          x2         x3          x4\n",
       "0   0.496714  141.537074    0.357787  82.899501  159.442766\n",
       "1  13.826430   42.064532    0.560785  56.018104   59.937502\n",
       "2   0.647689   34.271452    1.083051   0.747294    0.005244\n",
       "3   1.523030   80.227727    1.053802   0.610370    0.046981\n",
       "4  23.415337   16.128571  137.766937   2.090159   45.006547"
      ]
     },
     "execution_count": 16,
     "metadata": {},
     "output_type": "execute_result"
    }
   ],
   "source": [
    "normal_vals.where(normal_vals>0, other=lambda y: -y*100).head()"
   ]
  },
  {
   "cell_type": "markdown",
   "metadata": {},
   "source": [
    "Conversely, `mask` is the inverse boolean of `where`:"
   ]
  },
  {
   "cell_type": "code",
   "execution_count": 17,
   "metadata": {},
   "outputs": [
    {
     "data": {
      "text/html": [
       "<div>\n",
       "<style>\n",
       "    .dataframe thead tr:only-child th {\n",
       "        text-align: right;\n",
       "    }\n",
       "\n",
       "    .dataframe thead th {\n",
       "        text-align: left;\n",
       "    }\n",
       "\n",
       "    .dataframe tbody tr th {\n",
       "        vertical-align: top;\n",
       "    }\n",
       "</style>\n",
       "<table border=\"1\" class=\"dataframe\">\n",
       "  <thead>\n",
       "    <tr style=\"text-align: right;\">\n",
       "      <th></th>\n",
       "      <th>x0</th>\n",
       "      <th>x1</th>\n",
       "      <th>x2</th>\n",
       "      <th>x3</th>\n",
       "      <th>x4</th>\n",
       "    </tr>\n",
       "  </thead>\n",
       "  <tbody>\n",
       "    <tr>\n",
       "      <th>0</th>\n",
       "      <td>NaN</td>\n",
       "      <td>-1.415371</td>\n",
       "      <td>NaN</td>\n",
       "      <td>-0.828995</td>\n",
       "      <td>-1.594428</td>\n",
       "    </tr>\n",
       "    <tr>\n",
       "      <th>1</th>\n",
       "      <td>-0.138264</td>\n",
       "      <td>-0.420645</td>\n",
       "      <td>NaN</td>\n",
       "      <td>-0.560181</td>\n",
       "      <td>-0.599375</td>\n",
       "    </tr>\n",
       "    <tr>\n",
       "      <th>2</th>\n",
       "      <td>NaN</td>\n",
       "      <td>-0.342715</td>\n",
       "      <td>NaN</td>\n",
       "      <td>NaN</td>\n",
       "      <td>NaN</td>\n",
       "    </tr>\n",
       "    <tr>\n",
       "      <th>3</th>\n",
       "      <td>NaN</td>\n",
       "      <td>-0.802277</td>\n",
       "      <td>NaN</td>\n",
       "      <td>NaN</td>\n",
       "      <td>NaN</td>\n",
       "    </tr>\n",
       "    <tr>\n",
       "      <th>4</th>\n",
       "      <td>-0.234153</td>\n",
       "      <td>-0.161286</td>\n",
       "      <td>-1.377669</td>\n",
       "      <td>-0.020902</td>\n",
       "      <td>-0.450065</td>\n",
       "    </tr>\n",
       "  </tbody>\n",
       "</table>\n",
       "</div>"
      ],
      "text/plain": [
       "         x0        x1        x2        x3        x4\n",
       "0       NaN -1.415371       NaN -0.828995 -1.594428\n",
       "1 -0.138264 -0.420645       NaN -0.560181 -0.599375\n",
       "2       NaN -0.342715       NaN       NaN       NaN\n",
       "3       NaN -0.802277       NaN       NaN       NaN\n",
       "4 -0.234153 -0.161286 -1.377669 -0.020902 -0.450065"
      ]
     },
     "execution_count": 17,
     "metadata": {},
     "output_type": "execute_result"
    }
   ],
   "source": [
    "normal_vals.mask(normal_vals>0).head()"
   ]
  },
  {
   "cell_type": "markdown",
   "metadata": {},
   "source": [
    "## Selection with `query`\n",
    "\n",
    "At times, selection using indexing can be verbose because it requires repeated use of the `DataFrame` namespace."
   ]
  },
  {
   "cell_type": "code",
   "execution_count": 19,
   "metadata": {},
   "outputs": [
    {
     "data": {
      "text/html": [
       "<div>\n",
       "<style>\n",
       "    .dataframe thead tr:only-child th {\n",
       "        text-align: right;\n",
       "    }\n",
       "\n",
       "    .dataframe thead th {\n",
       "        text-align: left;\n",
       "    }\n",
       "\n",
       "    .dataframe tbody tr th {\n",
       "        vertical-align: top;\n",
       "    }\n",
       "</style>\n",
       "<table border=\"1\" class=\"dataframe\">\n",
       "  <thead>\n",
       "    <tr style=\"text-align: right;\">\n",
       "      <th></th>\n",
       "      <th>x0</th>\n",
       "      <th>x1</th>\n",
       "      <th>x2</th>\n",
       "      <th>x3</th>\n",
       "      <th>x4</th>\n",
       "    </tr>\n",
       "  </thead>\n",
       "  <tbody>\n",
       "    <tr>\n",
       "      <th>4</th>\n",
       "      <td>-0.234153</td>\n",
       "      <td>-0.161286</td>\n",
       "      <td>-1.377669</td>\n",
       "      <td>-0.020902</td>\n",
       "      <td>-0.450065</td>\n",
       "    </tr>\n",
       "    <tr>\n",
       "      <th>5</th>\n",
       "      <td>-0.234137</td>\n",
       "      <td>0.404051</td>\n",
       "      <td>-0.937825</td>\n",
       "      <td>0.117327</td>\n",
       "      <td>0.622850</td>\n",
       "    </tr>\n",
       "    <tr>\n",
       "      <th>6</th>\n",
       "      <td>1.579213</td>\n",
       "      <td>1.886186</td>\n",
       "      <td>0.515035</td>\n",
       "      <td>1.277665</td>\n",
       "      <td>-1.067620</td>\n",
       "    </tr>\n",
       "    <tr>\n",
       "      <th>8</th>\n",
       "      <td>-0.469474</td>\n",
       "      <td>0.257550</td>\n",
       "      <td>0.515048</td>\n",
       "      <td>0.547097</td>\n",
       "      <td>0.120296</td>\n",
       "    </tr>\n",
       "    <tr>\n",
       "      <th>13</th>\n",
       "      <td>-1.913280</td>\n",
       "      <td>2.463242</td>\n",
       "      <td>0.651391</td>\n",
       "      <td>0.813510</td>\n",
       "      <td>1.277677</td>\n",
       "    </tr>\n",
       "  </tbody>\n",
       "</table>\n",
       "</div>"
      ],
      "text/plain": [
       "          x0        x1        x2        x3        x4\n",
       "4  -0.234153 -0.161286 -1.377669 -0.020902 -0.450065\n",
       "5  -0.234137  0.404051 -0.937825  0.117327  0.622850\n",
       "6   1.579213  1.886186  0.515035  1.277665 -1.067620\n",
       "8  -0.469474  0.257550  0.515048  0.547097  0.120296\n",
       "13 -1.913280  2.463242  0.651391  0.813510  1.277677"
      ]
     },
     "execution_count": 19,
     "metadata": {},
     "output_type": "execute_result"
    }
   ],
   "source": [
    "normal_vals[(normal_vals.x1 > normal_vals.x0) & (normal_vals.x3 > normal_vals.x2)].head()"
   ]
  },
  {
   "cell_type": "markdown",
   "metadata": {},
   "source": [
    "For a more concise (and readable) syntax, we can use the new `query` method to perform selection on a `DataFrame`. Instead of having to type the fully-specified column, we can simply pass a string that describes what to select. The query above is then simply:"
   ]
  },
  {
   "cell_type": "code",
   "execution_count": 20,
   "metadata": {},
   "outputs": [
    {
     "data": {
      "text/html": [
       "<div>\n",
       "<style>\n",
       "    .dataframe thead tr:only-child th {\n",
       "        text-align: right;\n",
       "    }\n",
       "\n",
       "    .dataframe thead th {\n",
       "        text-align: left;\n",
       "    }\n",
       "\n",
       "    .dataframe tbody tr th {\n",
       "        vertical-align: top;\n",
       "    }\n",
       "</style>\n",
       "<table border=\"1\" class=\"dataframe\">\n",
       "  <thead>\n",
       "    <tr style=\"text-align: right;\">\n",
       "      <th></th>\n",
       "      <th>x0</th>\n",
       "      <th>x1</th>\n",
       "      <th>x2</th>\n",
       "      <th>x3</th>\n",
       "      <th>x4</th>\n",
       "    </tr>\n",
       "  </thead>\n",
       "  <tbody>\n",
       "    <tr>\n",
       "      <th>4</th>\n",
       "      <td>-0.234153</td>\n",
       "      <td>-0.161286</td>\n",
       "      <td>-1.377669</td>\n",
       "      <td>-0.020902</td>\n",
       "      <td>-0.450065</td>\n",
       "    </tr>\n",
       "    <tr>\n",
       "      <th>5</th>\n",
       "      <td>-0.234137</td>\n",
       "      <td>0.404051</td>\n",
       "      <td>-0.937825</td>\n",
       "      <td>0.117327</td>\n",
       "      <td>0.622850</td>\n",
       "    </tr>\n",
       "    <tr>\n",
       "      <th>6</th>\n",
       "      <td>1.579213</td>\n",
       "      <td>1.886186</td>\n",
       "      <td>0.515035</td>\n",
       "      <td>1.277665</td>\n",
       "      <td>-1.067620</td>\n",
       "    </tr>\n",
       "    <tr>\n",
       "      <th>8</th>\n",
       "      <td>-0.469474</td>\n",
       "      <td>0.257550</td>\n",
       "      <td>0.515048</td>\n",
       "      <td>0.547097</td>\n",
       "      <td>0.120296</td>\n",
       "    </tr>\n",
       "    <tr>\n",
       "      <th>13</th>\n",
       "      <td>-1.913280</td>\n",
       "      <td>2.463242</td>\n",
       "      <td>0.651391</td>\n",
       "      <td>0.813510</td>\n",
       "      <td>1.277677</td>\n",
       "    </tr>\n",
       "  </tbody>\n",
       "</table>\n",
       "</div>"
      ],
      "text/plain": [
       "          x0        x1        x2        x3        x4\n",
       "4  -0.234153 -0.161286 -1.377669 -0.020902 -0.450065\n",
       "5  -0.234137  0.404051 -0.937825  0.117327  0.622850\n",
       "6   1.579213  1.886186  0.515035  1.277665 -1.067620\n",
       "8  -0.469474  0.257550  0.515048  0.547097  0.120296\n",
       "13 -1.913280  2.463242  0.651391  0.813510  1.277677"
      ]
     },
     "execution_count": 20,
     "metadata": {},
     "output_type": "execute_result"
    }
   ],
   "source": [
    "normal_vals.query('(x1 > x0) & (x3 > x2)').head()"
   ]
  },
  {
   "cell_type": "markdown",
   "metadata": {},
   "source": [
    "The `DataFrame.index` and `DataFrame.columns` are placed in the query namespace by default. If you want to refer to a variable in the current namespace, you can prefix the variable with `@`:"
   ]
  },
  {
   "cell_type": "code",
   "execution_count": 21,
   "metadata": {
    "collapsed": true
   },
   "outputs": [],
   "source": [
    "min_loa = 700"
   ]
  },
  {
   "cell_type": "code",
   "execution_count": 22,
   "metadata": {},
   "outputs": [
    {
     "data": {
      "text/html": [
       "<div>\n",
       "<style>\n",
       "    .dataframe thead tr:only-child th {\n",
       "        text-align: right;\n",
       "    }\n",
       "\n",
       "    .dataframe thead th {\n",
       "        text-align: left;\n",
       "    }\n",
       "\n",
       "    .dataframe tbody tr th {\n",
       "        vertical-align: top;\n",
       "    }\n",
       "</style>\n",
       "<table border=\"1\" class=\"dataframe\">\n",
       "  <thead>\n",
       "    <tr style=\"text-align: right;\">\n",
       "      <th></th>\n",
       "      <th>num_names</th>\n",
       "      <th>names</th>\n",
       "      <th>sov</th>\n",
       "      <th>flag</th>\n",
       "      <th>flag_type</th>\n",
       "      <th>num_loas</th>\n",
       "      <th>loa</th>\n",
       "      <th>max_loa</th>\n",
       "      <th>num_types</th>\n",
       "      <th>type</th>\n",
       "    </tr>\n",
       "    <tr>\n",
       "      <th>mmsi</th>\n",
       "      <th></th>\n",
       "      <th></th>\n",
       "      <th></th>\n",
       "      <th></th>\n",
       "      <th></th>\n",
       "      <th></th>\n",
       "      <th></th>\n",
       "      <th></th>\n",
       "      <th></th>\n",
       "      <th></th>\n",
       "    </tr>\n",
       "  </thead>\n",
       "  <tbody>\n",
       "    <tr>\n",
       "      <th>211311970</th>\n",
       "      <td>2</td>\n",
       "      <td>Antwerpen Express/Dallas Express</td>\n",
       "      <td>N</td>\n",
       "      <td>Germany (Federal Republic of)</td>\n",
       "      <td>Foreign</td>\n",
       "      <td>3</td>\n",
       "      <td>294.0/512.0/806.0</td>\n",
       "      <td>806.0</td>\n",
       "      <td>1</td>\n",
       "      <td>Cargo</td>\n",
       "    </tr>\n",
       "    <tr>\n",
       "      <th>218292000</th>\n",
       "      <td>1</td>\n",
       "      <td>Seapike</td>\n",
       "      <td>N</td>\n",
       "      <td>Germany (Federal Republic of)</td>\n",
       "      <td>Foreign</td>\n",
       "      <td>3</td>\n",
       "      <td>199.0/200.0/711.0</td>\n",
       "      <td>711.0</td>\n",
       "      <td>1</td>\n",
       "      <td>Tanker</td>\n",
       "    </tr>\n",
       "    <tr>\n",
       "      <th>235760000</th>\n",
       "      <td>1</td>\n",
       "      <td>Methane Princess</td>\n",
       "      <td>N</td>\n",
       "      <td>United Kingdom of Great Britain and Northern I...</td>\n",
       "      <td>Foreign</td>\n",
       "      <td>2</td>\n",
       "      <td>277.0/789.0</td>\n",
       "      <td>789.0</td>\n",
       "      <td>1</td>\n",
       "      <td>Tanker</td>\n",
       "    </tr>\n",
       "    <tr>\n",
       "      <th>354092000</th>\n",
       "      <td>1</td>\n",
       "      <td>Msc Laura</td>\n",
       "      <td>N</td>\n",
       "      <td>Panama (Republic of)</td>\n",
       "      <td>Foreign</td>\n",
       "      <td>3</td>\n",
       "      <td>300.0/301.0/812.0</td>\n",
       "      <td>812.0</td>\n",
       "      <td>1</td>\n",
       "      <td>Cargo</td>\n",
       "    </tr>\n",
       "    <tr>\n",
       "      <th>538090124</th>\n",
       "      <td>1</td>\n",
       "      <td>Pacific Destiny</td>\n",
       "      <td>N</td>\n",
       "      <td>Marshall Islands (Republic of the)</td>\n",
       "      <td>Foreign</td>\n",
       "      <td>2</td>\n",
       "      <td>196.0/708.0</td>\n",
       "      <td>708.0</td>\n",
       "      <td>1</td>\n",
       "      <td>Cargo</td>\n",
       "    </tr>\n",
       "  </tbody>\n",
       "</table>\n",
       "</div>"
      ],
      "text/plain": [
       "           num_names                             names sov  \\\n",
       "mmsi                                                         \n",
       "211311970          2  Antwerpen Express/Dallas Express   N   \n",
       "218292000          1                           Seapike   N   \n",
       "235760000          1                  Methane Princess   N   \n",
       "354092000          1                         Msc Laura   N   \n",
       "538090124          1                   Pacific Destiny   N   \n",
       "\n",
       "                                                        flag flag_type  \\\n",
       "mmsi                                                                     \n",
       "211311970                     Germany (Federal Republic of)    Foreign   \n",
       "218292000                     Germany (Federal Republic of)    Foreign   \n",
       "235760000  United Kingdom of Great Britain and Northern I...   Foreign   \n",
       "354092000                              Panama (Republic of)    Foreign   \n",
       "538090124                Marshall Islands (Republic of the)    Foreign   \n",
       "\n",
       "           num_loas                loa  max_loa  num_types    type  \n",
       "mmsi                                                                \n",
       "211311970         3  294.0/512.0/806.0    806.0          1   Cargo  \n",
       "218292000         3  199.0/200.0/711.0    711.0          1  Tanker  \n",
       "235760000         2        277.0/789.0    789.0          1  Tanker  \n",
       "354092000         3  300.0/301.0/812.0    812.0          1   Cargo  \n",
       "538090124         2        196.0/708.0    708.0          1   Cargo  "
      ]
     },
     "execution_count": 22,
     "metadata": {},
     "output_type": "execute_result"
    }
   ],
   "source": [
    "vessels.query('max_loa > @min_loa')"
   ]
  },
  {
   "cell_type": "markdown",
   "metadata": {},
   "source": [
    "## Operations\n",
    "\n",
    "`DataFrame` and `Series` objects allow for several operations to take place either on a single object, or between two or more objects.\n",
    "\n",
    "For this section, we will import a complementary dataset of transits (voyages) of each vessel. This is a much larger dataset, since ships each have multiple transits over several years.\n",
    "\n",
    "For example, we can perform arithmetic on the elements of two objects, such as combining distances travelled across years. First, let's artificially construct two Series, consisting of segment lengths travelled in 2009 and 2010:"
   ]
  },
  {
   "cell_type": "code",
   "execution_count": 23,
   "metadata": {
    "collapsed": true
   },
   "outputs": [],
   "source": [
    "segments = pd.read_csv('../data/AIS/transit_segments.csv', parse_dates=['st_time'])"
   ]
  },
  {
   "cell_type": "markdown",
   "metadata": {},
   "source": [
    "Extract the year from the date (more on dates/times later!)"
   ]
  },
  {
   "cell_type": "code",
   "execution_count": 24,
   "metadata": {},
   "outputs": [
    {
     "data": {
      "text/plain": [
       "0    2009\n",
       "1    2009\n",
       "2    2009\n",
       "3    2009\n",
       "4    2009\n",
       "Name: year, dtype: int64"
      ]
     },
     "execution_count": 24,
     "metadata": {},
     "output_type": "execute_result"
    }
   ],
   "source": [
    "segments['year'] = segments.st_time.dt.year\n",
    "segments.year.head()"
   ]
  },
  {
   "cell_type": "code",
   "execution_count": 25,
   "metadata": {
    "collapsed": true
   },
   "outputs": [],
   "source": [
    "segments2009 = segments[segments.year==2009].copy()\n",
    "lengths2009 = pd.Series({name: segments2009[segments2009.name==name].seg_length.sum() \n",
    "                         for name in segments2009.name.unique()})"
   ]
  },
  {
   "cell_type": "code",
   "execution_count": 27,
   "metadata": {
    "collapsed": true
   },
   "outputs": [],
   "source": [
    "segments2010 = segments[segments.year==2010].copy()\n",
    "lengths2010 = pd.Series({name: segments2010[segments2010.name==name].seg_length.sum() \n",
    "                         for name in segments2010.name.unique()})"
   ]
  },
  {
   "cell_type": "markdown",
   "metadata": {},
   "source": [
    "We will learn a much more efficient way of performing this operation when we get to `GroupBy` operations a little later on."
   ]
  },
  {
   "cell_type": "code",
   "execution_count": 29,
   "metadata": {
    "collapsed": true
   },
   "outputs": [],
   "source": [
    "length2009 = segments.loc[segments.year==2009, 'seg_length']\n",
    "length2009.index = segments.name[segments.year==2009]\n",
    "\n",
    "length2010 = segments.loc[segments.year==2010, 'seg_length']\n",
    "length2010.index = segments.name[segments.year==2010]"
   ]
  },
  {
   "cell_type": "markdown",
   "metadata": {},
   "source": [
    "Now, let's add them together, in hopes of getting 2-year travel totals:"
   ]
  },
  {
   "cell_type": "code",
   "execution_count": 30,
   "metadata": {},
   "outputs": [
    {
     "data": {
      "text/plain": [
       "$ Vega Azurit $            NaN\n",
       "+ Alida Gorthon +          NaN\n",
       "+alida Gorthon+           63.0\n",
       "+margit Gorthon+           NaN\n",
       "0mega Theodore             NaN\n",
       "1700 Somewhere             NaN\n",
       "1st Lt Alex Bonnyman       NaN\n",
       "1st Lt Jack Lummus         NaN\n",
       "205551000                  NaN\n",
       "210235000                  NaN\n",
       "210670000                 43.5\n",
       "212043000                  5.2\n",
       "212412000                  NaN\n",
       "235067192                  NaN\n",
       "235075024                  NaN\n",
       "240716000                  NaN\n",
       "245554000                  NaN\n",
       "247102700                  NaN\n",
       "247242400                  NaN\n",
       "247281100                  NaN\n",
       "247645000                 55.4\n",
       "257356000                  NaN\n",
       "304716000                  NaN\n",
       "305624000                  NaN\n",
       "311003300                  7.7\n",
       "311003400                  NaN\n",
       "311011100                  NaN\n",
       "311011400                  NaN\n",
       "311022500                  NaN\n",
       "319015800                  NaN\n",
       "                         ...  \n",
       "Zim California          1166.4\n",
       "Zim Haifa               1295.5\n",
       "Zim Iberia                 NaN\n",
       "Zim Istanbul               NaN\n",
       "Zim Jamaica                NaN\n",
       "Zim Livorno                NaN\n",
       "Zim Luanda              1063.6\n",
       "Zim Mediterranean       1264.1\n",
       "Zim Moskva               744.9\n",
       "Zim New York            1194.3\n",
       "Zim Ontario              971.5\n",
       "Zim Panama              1020.5\n",
       "Zim Piraeus             1205.6\n",
       "Zim Pusan               1045.1\n",
       "Zim Qingdao              623.2\n",
       "Zim Rio Grande          3023.5\n",
       "Zim San Francisco       1205.0\n",
       "Zim Sao Paolo              NaN\n",
       "Zim Savannah            1296.7\n",
       "Zim Shanghai            1202.0\n",
       "Zim Shenzhen            1184.7\n",
       "Zim Usa                    NaN\n",
       "Zim Virginia            1225.6\n",
       "Zim Xiamen                 NaN\n",
       "Zirku                      NaN\n",
       "Zouzou                     NaN\n",
       "Zuma                       NaN\n",
       "\\m/- /+                    NaN\n",
       "stadt Gera                 NaN\n",
       "vega Saturn                NaN\n",
       "Length: 7210, dtype: float64"
      ]
     },
     "execution_count": 30,
     "metadata": {},
     "output_type": "execute_result"
    }
   ],
   "source": [
    "seg_lengths = lengths2009 + lengths2010\n",
    "seg_lengths"
   ]
  },
  {
   "cell_type": "markdown",
   "metadata": {},
   "source": [
    "Pandas' data alignment places `NaN` values for labels that do not overlap in the two Series. In fact, the majority of ships only have data for one of the two years."
   ]
  },
  {
   "cell_type": "code",
   "execution_count": 31,
   "metadata": {},
   "outputs": [
    {
     "data": {
      "text/plain": [
       "0.35575589459084606"
      ]
     },
     "execution_count": 31,
     "metadata": {},
     "output_type": "execute_result"
    }
   ],
   "source": [
    "seg_lengths.notnull().mean()"
   ]
  },
  {
   "cell_type": "markdown",
   "metadata": {},
   "source": [
    "While we do want the operation to honor the data labels in this way, we probably do not want the missing values to be filled with `NaN`. We can use the `add` method to calculate ship travel totals by using the `fill_value` argument to insert a zero for years that do not have data for a particular vessel:"
   ]
  },
  {
   "cell_type": "code",
   "execution_count": 32,
   "metadata": {},
   "outputs": [
    {
     "data": {
      "text/plain": [
       "$ Vega Azurit $           69.0\n",
       "+ Alida Gorthon +        497.2\n",
       "+alida Gorthon+           63.0\n",
       "+margit Gorthon+         342.3\n",
       "0mega Theodore            62.6\n",
       "1700 Somewhere             7.6\n",
       "1st Lt Alex Bonnyman      96.4\n",
       "1st Lt Jack Lummus         1.3\n",
       "205551000                  7.2\n",
       "210235000                  1.2\n",
       "210670000                 43.5\n",
       "212043000                  5.2\n",
       "212412000                  4.9\n",
       "235067192                 19.5\n",
       "235075024                  1.1\n",
       "240716000                 72.9\n",
       "245554000                  4.1\n",
       "247102700                 24.1\n",
       "247242400                  8.9\n",
       "247281100                 21.1\n",
       "247645000                 55.4\n",
       "257356000                135.3\n",
       "304716000                  4.0\n",
       "305624000                 53.6\n",
       "311003300                  7.7\n",
       "311003400                  4.3\n",
       "311011100                 18.9\n",
       "311011400                  3.3\n",
       "311022500                 19.6\n",
       "319015800                 10.7\n",
       "                         ...  \n",
       "Zim California          1166.4\n",
       "Zim Haifa               1295.5\n",
       "Zim Iberia               449.8\n",
       "Zim Istanbul             357.2\n",
       "Zim Jamaica              231.4\n",
       "Zim Livorno              183.1\n",
       "Zim Luanda              1063.6\n",
       "Zim Mediterranean       1264.1\n",
       "Zim Moskva               744.9\n",
       "Zim New York            1194.3\n",
       "Zim Ontario              971.5\n",
       "Zim Panama              1020.5\n",
       "Zim Piraeus             1205.6\n",
       "Zim Pusan               1045.1\n",
       "Zim Qingdao              623.2\n",
       "Zim Rio Grande          3023.5\n",
       "Zim San Francisco       1205.0\n",
       "Zim Sao Paolo             91.1\n",
       "Zim Savannah            1296.7\n",
       "Zim Shanghai            1202.0\n",
       "Zim Shenzhen            1184.7\n",
       "Zim Usa                  296.7\n",
       "Zim Virginia            1225.6\n",
       "Zim Xiamen                69.4\n",
       "Zirku                     57.7\n",
       "Zouzou                   188.5\n",
       "Zuma                      54.2\n",
       "\\m/- /+                   17.2\n",
       "stadt Gera                41.8\n",
       "vega Saturn              161.6\n",
       "Length: 7210, dtype: float64"
      ]
     },
     "execution_count": 32,
     "metadata": {},
     "output_type": "execute_result"
    }
   ],
   "source": [
    "lengths2009.add(lengths2010, fill_value=0)"
   ]
  },
  {
   "cell_type": "markdown",
   "metadata": {},
   "source": [
    "Operations can also be **broadcast** between rows or columns.\n",
    "\n",
    "For example, if we subtract the maximum LOA (ship length) from the `max_loa` column, we get a the differences between the size of a given vessel to the largest vessel."
   ]
  },
  {
   "cell_type": "code",
   "execution_count": 33,
   "metadata": {},
   "outputs": [
    {
     "data": {
      "text/plain": [
       "mmsi\n",
       "1           -656.0\n",
       "9           -750.0\n",
       "21          -604.0\n",
       "74          -657.0\n",
       "103         -657.0\n",
       "310         -765.0\n",
       "3011        -652.0\n",
       "4731        -782.0\n",
       "15151       -637.0\n",
       "46809       -790.0\n",
       "80404       -783.0\n",
       "82003       -783.0\n",
       "298716      -777.0\n",
       "366235      -605.0\n",
       "439541      -757.0\n",
       "453556      -604.0\n",
       "505843      -792.0\n",
       "527918      -792.0\n",
       "565026      -780.0\n",
       "572329      -772.0\n",
       "587370      -779.0\n",
       "641114      -792.0\n",
       "642262      -757.0\n",
       "693559      -772.0\n",
       "883085      -607.0\n",
       "1193046     -143.0\n",
       "1193946     -745.0\n",
       "1233916     -792.0\n",
       "1239468     -790.0\n",
       "3041300     -694.0\n",
       "             ...  \n",
       "720728000   -714.0\n",
       "720754000   -780.0\n",
       "720768000   -783.0\n",
       "725004700   -652.0\n",
       "725005560   -635.0\n",
       "725005570   -637.0\n",
       "725011300   -645.0\n",
       "725018300   -636.0\n",
       "725019006   -699.0\n",
       "725021000   -624.0\n",
       "725022000   -595.0\n",
       "730000161   -708.0\n",
       "730010001   -736.0\n",
       "730026000   -693.0\n",
       "730031000   -692.0\n",
       "735057548   -584.0\n",
       "735059037   -734.0\n",
       "760101000   -664.0\n",
       "770576100   -752.0\n",
       "812719000   -760.0\n",
       "857632392   -792.0\n",
       "866946820   -779.0\n",
       "888888882   -747.0\n",
       "888888888   -772.0\n",
       "900000000   -461.0\n",
       "919191919   -792.0\n",
       "967191190   -781.0\n",
       "975318642   -792.0\n",
       "987654321   -789.0\n",
       "999999999   -782.0\n",
       "Name: max_loa, Length: 10771, dtype: float64"
      ]
     },
     "execution_count": 33,
     "metadata": {},
     "output_type": "execute_result"
    }
   ],
   "source": [
    "vessels.max_loa - vessels.max_loa.max()"
   ]
  },
  {
   "cell_type": "markdown",
   "metadata": {},
   "source": [
    "Or, looking at things row-wise, we can see how a particular vessel compares with the rest of the group with respect to important features:"
   ]
  },
  {
   "cell_type": "code",
   "execution_count": 34,
   "metadata": {},
   "outputs": [
    {
     "data": {
      "text/html": [
       "<div>\n",
       "<style>\n",
       "    .dataframe thead tr:only-child th {\n",
       "        text-align: right;\n",
       "    }\n",
       "\n",
       "    .dataframe thead th {\n",
       "        text-align: left;\n",
       "    }\n",
       "\n",
       "    .dataframe tbody tr th {\n",
       "        vertical-align: top;\n",
       "    }\n",
       "</style>\n",
       "<table border=\"1\" class=\"dataframe\">\n",
       "  <thead>\n",
       "    <tr style=\"text-align: right;\">\n",
       "      <th></th>\n",
       "      <th>num_names</th>\n",
       "      <th>names</th>\n",
       "      <th>sov</th>\n",
       "      <th>flag</th>\n",
       "      <th>flag_type</th>\n",
       "      <th>num_loas</th>\n",
       "      <th>loa</th>\n",
       "      <th>max_loa</th>\n",
       "      <th>num_types</th>\n",
       "      <th>type</th>\n",
       "    </tr>\n",
       "    <tr>\n",
       "      <th>mmsi</th>\n",
       "      <th></th>\n",
       "      <th></th>\n",
       "      <th></th>\n",
       "      <th></th>\n",
       "      <th></th>\n",
       "      <th></th>\n",
       "      <th></th>\n",
       "      <th></th>\n",
       "      <th></th>\n",
       "      <th></th>\n",
       "    </tr>\n",
       "  </thead>\n",
       "  <tbody>\n",
       "    <tr>\n",
       "      <th>354092000</th>\n",
       "      <td>1</td>\n",
       "      <td>Msc Laura</td>\n",
       "      <td>N</td>\n",
       "      <td>Panama (Republic of)</td>\n",
       "      <td>Foreign</td>\n",
       "      <td>3</td>\n",
       "      <td>300.0/301.0/812.0</td>\n",
       "      <td>812.0</td>\n",
       "      <td>1</td>\n",
       "      <td>Cargo</td>\n",
       "    </tr>\n",
       "  </tbody>\n",
       "</table>\n",
       "</div>"
      ],
      "text/plain": [
       "           num_names      names sov                   flag flag_type  \\\n",
       "mmsi                                                                   \n",
       "354092000          1  Msc Laura   N  Panama (Republic of)    Foreign   \n",
       "\n",
       "           num_loas                loa  max_loa  num_types   type  \n",
       "mmsi                                                               \n",
       "354092000         3  300.0/301.0/812.0    812.0          1  Cargo  "
      ]
     },
     "execution_count": 34,
     "metadata": {},
     "output_type": "execute_result"
    }
   ],
   "source": [
    "vessels[vessels.max_loa==vessels.max_loa.max()]"
   ]
  },
  {
   "cell_type": "code",
   "execution_count": 35,
   "metadata": {},
   "outputs": [
    {
     "data": {
      "text/html": [
       "<div>\n",
       "<style>\n",
       "    .dataframe thead tr:only-child th {\n",
       "        text-align: right;\n",
       "    }\n",
       "\n",
       "    .dataframe thead th {\n",
       "        text-align: left;\n",
       "    }\n",
       "\n",
       "    .dataframe tbody tr th {\n",
       "        vertical-align: top;\n",
       "    }\n",
       "</style>\n",
       "<table border=\"1\" class=\"dataframe\">\n",
       "  <thead>\n",
       "    <tr style=\"text-align: right;\">\n",
       "      <th></th>\n",
       "      <th>num_names</th>\n",
       "      <th>num_loas</th>\n",
       "      <th>max_loa</th>\n",
       "      <th>num_types</th>\n",
       "    </tr>\n",
       "    <tr>\n",
       "      <th>mmsi</th>\n",
       "      <th></th>\n",
       "      <th></th>\n",
       "      <th></th>\n",
       "      <th></th>\n",
       "    </tr>\n",
       "  </thead>\n",
       "  <tbody>\n",
       "    <tr>\n",
       "      <th>1</th>\n",
       "      <td>7.0</td>\n",
       "      <td>4.0</td>\n",
       "      <td>-656.0</td>\n",
       "      <td>3.0</td>\n",
       "    </tr>\n",
       "    <tr>\n",
       "      <th>9</th>\n",
       "      <td>2.0</td>\n",
       "      <td>-1.0</td>\n",
       "      <td>-750.0</td>\n",
       "      <td>1.0</td>\n",
       "    </tr>\n",
       "    <tr>\n",
       "      <th>21</th>\n",
       "      <td>0.0</td>\n",
       "      <td>-2.0</td>\n",
       "      <td>-604.0</td>\n",
       "      <td>0.0</td>\n",
       "    </tr>\n",
       "    <tr>\n",
       "      <th>74</th>\n",
       "      <td>1.0</td>\n",
       "      <td>-2.0</td>\n",
       "      <td>-657.0</td>\n",
       "      <td>0.0</td>\n",
       "    </tr>\n",
       "    <tr>\n",
       "      <th>103</th>\n",
       "      <td>2.0</td>\n",
       "      <td>-1.0</td>\n",
       "      <td>-657.0</td>\n",
       "      <td>1.0</td>\n",
       "    </tr>\n",
       "    <tr>\n",
       "      <th>310</th>\n",
       "      <td>0.0</td>\n",
       "      <td>-2.0</td>\n",
       "      <td>-765.0</td>\n",
       "      <td>0.0</td>\n",
       "    </tr>\n",
       "    <tr>\n",
       "      <th>3011</th>\n",
       "      <td>0.0</td>\n",
       "      <td>-2.0</td>\n",
       "      <td>-652.0</td>\n",
       "      <td>0.0</td>\n",
       "    </tr>\n",
       "    <tr>\n",
       "      <th>4731</th>\n",
       "      <td>0.0</td>\n",
       "      <td>-2.0</td>\n",
       "      <td>-782.0</td>\n",
       "      <td>0.0</td>\n",
       "    </tr>\n",
       "    <tr>\n",
       "      <th>15151</th>\n",
       "      <td>1.0</td>\n",
       "      <td>-1.0</td>\n",
       "      <td>-637.0</td>\n",
       "      <td>0.0</td>\n",
       "    </tr>\n",
       "    <tr>\n",
       "      <th>46809</th>\n",
       "      <td>0.0</td>\n",
       "      <td>-2.0</td>\n",
       "      <td>-790.0</td>\n",
       "      <td>0.0</td>\n",
       "    </tr>\n",
       "  </tbody>\n",
       "</table>\n",
       "</div>"
      ],
      "text/plain": [
       "       num_names  num_loas  max_loa  num_types\n",
       "mmsi                                          \n",
       "1            7.0       4.0   -656.0        3.0\n",
       "9            2.0      -1.0   -750.0        1.0\n",
       "21           0.0      -2.0   -604.0        0.0\n",
       "74           1.0      -2.0   -657.0        0.0\n",
       "103          2.0      -1.0   -657.0        1.0\n",
       "310          0.0      -2.0   -765.0        0.0\n",
       "3011         0.0      -2.0   -652.0        0.0\n",
       "4731         0.0      -2.0   -782.0        0.0\n",
       "15151        1.0      -1.0   -637.0        0.0\n",
       "46809        0.0      -2.0   -790.0        0.0"
      ]
     },
     "execution_count": 35,
     "metadata": {},
     "output_type": "execute_result"
    }
   ],
   "source": [
    "recs = vessels[['num_names','num_loas', 'max_loa', 'num_types']]\n",
    "diff = recs - recs.loc[354092000]\n",
    "diff[:10]"
   ]
  },
  {
   "cell_type": "markdown",
   "metadata": {},
   "source": [
    "We can also apply functions to each column or row of a `DataFrame`"
   ]
  },
  {
   "cell_type": "code",
   "execution_count": 36,
   "metadata": {},
   "outputs": [
    {
     "data": {
      "text/plain": [
       "num_names      1.0\n",
       "num_loas       1.0\n",
       "max_loa      183.0\n",
       "num_types      1.0\n",
       "dtype: float64"
      ]
     },
     "execution_count": 36,
     "metadata": {},
     "output_type": "execute_result"
    }
   ],
   "source": [
    "recs.apply(np.median)"
   ]
  },
  {
   "cell_type": "code",
   "execution_count": 37,
   "metadata": {
    "collapsed": true
   },
   "outputs": [],
   "source": [
    "def range_calc(x):\n",
    "    return x.max() - x.min()"
   ]
  },
  {
   "cell_type": "code",
   "execution_count": 38,
   "metadata": {},
   "outputs": [
    {
     "data": {
      "text/plain": [
       "num_names    167.0\n",
       "num_loas      83.0\n",
       "max_loa      812.0\n",
       "num_types     13.0\n",
       "dtype: float64"
      ]
     },
     "execution_count": 38,
     "metadata": {},
     "output_type": "execute_result"
    }
   ],
   "source": [
    "recs.apply(range_calc)"
   ]
  },
  {
   "cell_type": "markdown",
   "metadata": {},
   "source": [
    "## Sorting and Ranking\n",
    "\n",
    "Pandas objects include methods for re-ordering data."
   ]
  },
  {
   "cell_type": "code",
   "execution_count": 39,
   "metadata": {},
   "outputs": [
    {
     "data": {
      "text/html": [
       "<div>\n",
       "<style>\n",
       "    .dataframe thead tr:only-child th {\n",
       "        text-align: right;\n",
       "    }\n",
       "\n",
       "    .dataframe thead th {\n",
       "        text-align: left;\n",
       "    }\n",
       "\n",
       "    .dataframe tbody tr th {\n",
       "        vertical-align: top;\n",
       "    }\n",
       "</style>\n",
       "<table border=\"1\" class=\"dataframe\">\n",
       "  <thead>\n",
       "    <tr style=\"text-align: right;\">\n",
       "      <th></th>\n",
       "      <th>mmsi</th>\n",
       "      <th>name</th>\n",
       "      <th>transit</th>\n",
       "      <th>segment</th>\n",
       "      <th>seg_length</th>\n",
       "      <th>avg_sog</th>\n",
       "      <th>min_sog</th>\n",
       "      <th>max_sog</th>\n",
       "      <th>pdgt10</th>\n",
       "      <th>st_time</th>\n",
       "      <th>end_time</th>\n",
       "      <th>year</th>\n",
       "    </tr>\n",
       "  </thead>\n",
       "  <tbody>\n",
       "    <tr>\n",
       "      <th>0</th>\n",
       "      <td>1</td>\n",
       "      <td>Us Govt Ves</td>\n",
       "      <td>1</td>\n",
       "      <td>1</td>\n",
       "      <td>5.1</td>\n",
       "      <td>13.2</td>\n",
       "      <td>9.2</td>\n",
       "      <td>14.5</td>\n",
       "      <td>96.5</td>\n",
       "      <td>2009-02-10 16:03:00</td>\n",
       "      <td>2/10/09 16:27</td>\n",
       "      <td>2009</td>\n",
       "    </tr>\n",
       "    <tr>\n",
       "      <th>1</th>\n",
       "      <td>1</td>\n",
       "      <td>Dredge Capt Frank</td>\n",
       "      <td>1</td>\n",
       "      <td>1</td>\n",
       "      <td>13.5</td>\n",
       "      <td>18.6</td>\n",
       "      <td>10.4</td>\n",
       "      <td>20.6</td>\n",
       "      <td>100.0</td>\n",
       "      <td>2009-04-06 14:31:00</td>\n",
       "      <td>4/6/09 15:20</td>\n",
       "      <td>2009</td>\n",
       "    </tr>\n",
       "    <tr>\n",
       "      <th>2</th>\n",
       "      <td>1</td>\n",
       "      <td>Us Gov Vessel</td>\n",
       "      <td>1</td>\n",
       "      <td>1</td>\n",
       "      <td>4.3</td>\n",
       "      <td>16.2</td>\n",
       "      <td>10.3</td>\n",
       "      <td>20.5</td>\n",
       "      <td>100.0</td>\n",
       "      <td>2009-04-06 14:36:00</td>\n",
       "      <td>4/6/09 14:55</td>\n",
       "      <td>2009</td>\n",
       "    </tr>\n",
       "    <tr>\n",
       "      <th>3</th>\n",
       "      <td>1</td>\n",
       "      <td>Us Gov Vessel</td>\n",
       "      <td>2</td>\n",
       "      <td>1</td>\n",
       "      <td>9.2</td>\n",
       "      <td>15.4</td>\n",
       "      <td>14.5</td>\n",
       "      <td>16.1</td>\n",
       "      <td>100.0</td>\n",
       "      <td>2009-04-10 17:58:00</td>\n",
       "      <td>4/10/09 18:34</td>\n",
       "      <td>2009</td>\n",
       "    </tr>\n",
       "    <tr>\n",
       "      <th>4</th>\n",
       "      <td>1</td>\n",
       "      <td>Dredge Capt Frank</td>\n",
       "      <td>2</td>\n",
       "      <td>1</td>\n",
       "      <td>9.2</td>\n",
       "      <td>15.4</td>\n",
       "      <td>14.6</td>\n",
       "      <td>16.2</td>\n",
       "      <td>100.0</td>\n",
       "      <td>2009-04-10 17:59:00</td>\n",
       "      <td>4/10/09 18:35</td>\n",
       "      <td>2009</td>\n",
       "    </tr>\n",
       "  </tbody>\n",
       "</table>\n",
       "</div>"
      ],
      "text/plain": [
       "   mmsi               name  transit  segment  seg_length  avg_sog  min_sog  \\\n",
       "0     1        Us Govt Ves        1        1         5.1     13.2      9.2   \n",
       "1     1  Dredge Capt Frank        1        1        13.5     18.6     10.4   \n",
       "2     1      Us Gov Vessel        1        1         4.3     16.2     10.3   \n",
       "3     1      Us Gov Vessel        2        1         9.2     15.4     14.5   \n",
       "4     1  Dredge Capt Frank        2        1         9.2     15.4     14.6   \n",
       "\n",
       "   max_sog  pdgt10             st_time       end_time  year  \n",
       "0     14.5    96.5 2009-02-10 16:03:00  2/10/09 16:27  2009  \n",
       "1     20.6   100.0 2009-04-06 14:31:00   4/6/09 15:20  2009  \n",
       "2     20.5   100.0 2009-04-06 14:36:00   4/6/09 14:55  2009  \n",
       "3     16.1   100.0 2009-04-10 17:58:00  4/10/09 18:34  2009  \n",
       "4     16.2   100.0 2009-04-10 17:59:00  4/10/09 18:35  2009  "
      ]
     },
     "execution_count": 39,
     "metadata": {},
     "output_type": "execute_result"
    }
   ],
   "source": [
    "segments.sort_index().head()"
   ]
  },
  {
   "cell_type": "code",
   "execution_count": 40,
   "metadata": {},
   "outputs": [
    {
     "data": {
      "text/html": [
       "<div>\n",
       "<style>\n",
       "    .dataframe thead tr:only-child th {\n",
       "        text-align: right;\n",
       "    }\n",
       "\n",
       "    .dataframe thead th {\n",
       "        text-align: left;\n",
       "    }\n",
       "\n",
       "    .dataframe tbody tr th {\n",
       "        vertical-align: top;\n",
       "    }\n",
       "</style>\n",
       "<table border=\"1\" class=\"dataframe\">\n",
       "  <thead>\n",
       "    <tr style=\"text-align: right;\">\n",
       "      <th></th>\n",
       "      <th>mmsi</th>\n",
       "      <th>name</th>\n",
       "      <th>transit</th>\n",
       "      <th>segment</th>\n",
       "      <th>seg_length</th>\n",
       "      <th>avg_sog</th>\n",
       "      <th>min_sog</th>\n",
       "      <th>max_sog</th>\n",
       "      <th>pdgt10</th>\n",
       "      <th>st_time</th>\n",
       "      <th>end_time</th>\n",
       "      <th>year</th>\n",
       "    </tr>\n",
       "  </thead>\n",
       "  <tbody>\n",
       "    <tr>\n",
       "      <th>262525</th>\n",
       "      <td>999999999</td>\n",
       "      <td>Triple Attraction</td>\n",
       "      <td>8</td>\n",
       "      <td>1</td>\n",
       "      <td>19.8</td>\n",
       "      <td>18.6</td>\n",
       "      <td>16.1</td>\n",
       "      <td>19.5</td>\n",
       "      <td>100.0</td>\n",
       "      <td>2010-06-18 10:19:00</td>\n",
       "      <td>6/18/10 11:22</td>\n",
       "      <td>2010</td>\n",
       "    </tr>\n",
       "    <tr>\n",
       "      <th>262524</th>\n",
       "      <td>999999999</td>\n",
       "      <td>Triple Attraction</td>\n",
       "      <td>7</td>\n",
       "      <td>1</td>\n",
       "      <td>31.5</td>\n",
       "      <td>14.2</td>\n",
       "      <td>13.4</td>\n",
       "      <td>15.1</td>\n",
       "      <td>100.0</td>\n",
       "      <td>2010-06-18 02:52:00</td>\n",
       "      <td>6/18/10 5:03</td>\n",
       "      <td>2010</td>\n",
       "    </tr>\n",
       "    <tr>\n",
       "      <th>262523</th>\n",
       "      <td>999999999</td>\n",
       "      <td>Triple Attraction</td>\n",
       "      <td>6</td>\n",
       "      <td>1</td>\n",
       "      <td>17.4</td>\n",
       "      <td>17.0</td>\n",
       "      <td>14.7</td>\n",
       "      <td>18.4</td>\n",
       "      <td>100.0</td>\n",
       "      <td>2010-06-17 19:16:00</td>\n",
       "      <td>6/17/10 20:17</td>\n",
       "      <td>2010</td>\n",
       "    </tr>\n",
       "    <tr>\n",
       "      <th>262522</th>\n",
       "      <td>999999999</td>\n",
       "      <td>Triple Attraction</td>\n",
       "      <td>4</td>\n",
       "      <td>1</td>\n",
       "      <td>18.7</td>\n",
       "      <td>19.2</td>\n",
       "      <td>18.4</td>\n",
       "      <td>19.9</td>\n",
       "      <td>100.0</td>\n",
       "      <td>2010-06-15 21:32:00</td>\n",
       "      <td>6/15/10 22:29</td>\n",
       "      <td>2010</td>\n",
       "    </tr>\n",
       "    <tr>\n",
       "      <th>262521</th>\n",
       "      <td>999999999</td>\n",
       "      <td>Triple Attraction</td>\n",
       "      <td>3</td>\n",
       "      <td>1</td>\n",
       "      <td>5.3</td>\n",
       "      <td>20.0</td>\n",
       "      <td>19.6</td>\n",
       "      <td>20.4</td>\n",
       "      <td>100.0</td>\n",
       "      <td>2010-06-15 12:49:00</td>\n",
       "      <td>6/15/10 13:05</td>\n",
       "      <td>2010</td>\n",
       "    </tr>\n",
       "  </tbody>\n",
       "</table>\n",
       "</div>"
      ],
      "text/plain": [
       "             mmsi               name  transit  segment  seg_length  avg_sog  \\\n",
       "262525  999999999  Triple Attraction        8        1        19.8     18.6   \n",
       "262524  999999999  Triple Attraction        7        1        31.5     14.2   \n",
       "262523  999999999  Triple Attraction        6        1        17.4     17.0   \n",
       "262522  999999999  Triple Attraction        4        1        18.7     19.2   \n",
       "262521  999999999  Triple Attraction        3        1         5.3     20.0   \n",
       "\n",
       "        min_sog  max_sog  pdgt10             st_time       end_time  year  \n",
       "262525     16.1     19.5   100.0 2010-06-18 10:19:00  6/18/10 11:22  2010  \n",
       "262524     13.4     15.1   100.0 2010-06-18 02:52:00   6/18/10 5:03  2010  \n",
       "262523     14.7     18.4   100.0 2010-06-17 19:16:00  6/17/10 20:17  2010  \n",
       "262522     18.4     19.9   100.0 2010-06-15 21:32:00  6/15/10 22:29  2010  \n",
       "262521     19.6     20.4   100.0 2010-06-15 12:49:00  6/15/10 13:05  2010  "
      ]
     },
     "execution_count": 40,
     "metadata": {},
     "output_type": "execute_result"
    }
   ],
   "source": [
    "segments.sort_index(ascending=False).head()"
   ]
  },
  {
   "cell_type": "markdown",
   "metadata": {},
   "source": [
    "Try sorting the **columns** instead of the rows, in ascending order:"
   ]
  },
  {
   "cell_type": "code",
   "execution_count": 41,
   "metadata": {},
   "outputs": [
    {
     "data": {
      "text/html": [
       "<div>\n",
       "<style>\n",
       "    .dataframe thead tr:only-child th {\n",
       "        text-align: right;\n",
       "    }\n",
       "\n",
       "    .dataframe thead th {\n",
       "        text-align: left;\n",
       "    }\n",
       "\n",
       "    .dataframe tbody tr th {\n",
       "        vertical-align: top;\n",
       "    }\n",
       "</style>\n",
       "<table border=\"1\" class=\"dataframe\">\n",
       "  <thead>\n",
       "    <tr style=\"text-align: right;\">\n",
       "      <th></th>\n",
       "      <th>avg_sog</th>\n",
       "      <th>end_time</th>\n",
       "      <th>max_sog</th>\n",
       "      <th>min_sog</th>\n",
       "      <th>mmsi</th>\n",
       "      <th>name</th>\n",
       "      <th>pdgt10</th>\n",
       "      <th>seg_length</th>\n",
       "      <th>segment</th>\n",
       "      <th>st_time</th>\n",
       "      <th>transit</th>\n",
       "      <th>year</th>\n",
       "    </tr>\n",
       "  </thead>\n",
       "  <tbody>\n",
       "    <tr>\n",
       "      <th>0</th>\n",
       "      <td>13.2</td>\n",
       "      <td>2/10/09 16:27</td>\n",
       "      <td>14.5</td>\n",
       "      <td>9.2</td>\n",
       "      <td>1</td>\n",
       "      <td>Us Govt Ves</td>\n",
       "      <td>96.5</td>\n",
       "      <td>5.1</td>\n",
       "      <td>1</td>\n",
       "      <td>2009-02-10 16:03:00</td>\n",
       "      <td>1</td>\n",
       "      <td>2009</td>\n",
       "    </tr>\n",
       "    <tr>\n",
       "      <th>1</th>\n",
       "      <td>18.6</td>\n",
       "      <td>4/6/09 15:20</td>\n",
       "      <td>20.6</td>\n",
       "      <td>10.4</td>\n",
       "      <td>1</td>\n",
       "      <td>Dredge Capt Frank</td>\n",
       "      <td>100.0</td>\n",
       "      <td>13.5</td>\n",
       "      <td>1</td>\n",
       "      <td>2009-04-06 14:31:00</td>\n",
       "      <td>1</td>\n",
       "      <td>2009</td>\n",
       "    </tr>\n",
       "    <tr>\n",
       "      <th>2</th>\n",
       "      <td>16.2</td>\n",
       "      <td>4/6/09 14:55</td>\n",
       "      <td>20.5</td>\n",
       "      <td>10.3</td>\n",
       "      <td>1</td>\n",
       "      <td>Us Gov Vessel</td>\n",
       "      <td>100.0</td>\n",
       "      <td>4.3</td>\n",
       "      <td>1</td>\n",
       "      <td>2009-04-06 14:36:00</td>\n",
       "      <td>1</td>\n",
       "      <td>2009</td>\n",
       "    </tr>\n",
       "    <tr>\n",
       "      <th>3</th>\n",
       "      <td>15.4</td>\n",
       "      <td>4/10/09 18:34</td>\n",
       "      <td>16.1</td>\n",
       "      <td>14.5</td>\n",
       "      <td>1</td>\n",
       "      <td>Us Gov Vessel</td>\n",
       "      <td>100.0</td>\n",
       "      <td>9.2</td>\n",
       "      <td>1</td>\n",
       "      <td>2009-04-10 17:58:00</td>\n",
       "      <td>2</td>\n",
       "      <td>2009</td>\n",
       "    </tr>\n",
       "    <tr>\n",
       "      <th>4</th>\n",
       "      <td>15.4</td>\n",
       "      <td>4/10/09 18:35</td>\n",
       "      <td>16.2</td>\n",
       "      <td>14.6</td>\n",
       "      <td>1</td>\n",
       "      <td>Dredge Capt Frank</td>\n",
       "      <td>100.0</td>\n",
       "      <td>9.2</td>\n",
       "      <td>1</td>\n",
       "      <td>2009-04-10 17:59:00</td>\n",
       "      <td>2</td>\n",
       "      <td>2009</td>\n",
       "    </tr>\n",
       "  </tbody>\n",
       "</table>\n",
       "</div>"
      ],
      "text/plain": [
       "   avg_sog       end_time  max_sog  min_sog  mmsi               name  pdgt10  \\\n",
       "0     13.2  2/10/09 16:27     14.5      9.2     1        Us Govt Ves    96.5   \n",
       "1     18.6   4/6/09 15:20     20.6     10.4     1  Dredge Capt Frank   100.0   \n",
       "2     16.2   4/6/09 14:55     20.5     10.3     1      Us Gov Vessel   100.0   \n",
       "3     15.4  4/10/09 18:34     16.1     14.5     1      Us Gov Vessel   100.0   \n",
       "4     15.4  4/10/09 18:35     16.2     14.6     1  Dredge Capt Frank   100.0   \n",
       "\n",
       "   seg_length  segment             st_time  transit  year  \n",
       "0         5.1        1 2009-02-10 16:03:00        1  2009  \n",
       "1        13.5        1 2009-04-06 14:31:00        1  2009  \n",
       "2         4.3        1 2009-04-06 14:36:00        1  2009  \n",
       "3         9.2        1 2009-04-10 17:58:00        2  2009  \n",
       "4         9.2        1 2009-04-10 17:59:00        2  2009  "
      ]
     },
     "execution_count": 41,
     "metadata": {},
     "output_type": "execute_result"
    }
   ],
   "source": [
    "segments.sort_index(axis=1).head()"
   ]
  },
  {
   "cell_type": "markdown",
   "metadata": {},
   "source": [
    "We can also use `sort_values` to sort a `Series` by value, rather than by label."
   ]
  },
  {
   "cell_type": "code",
   "execution_count": 42,
   "metadata": {},
   "outputs": [
    {
     "data": {
      "text/plain": [
       "181047    1882.0\n",
       "181108    1691.0\n",
       "149218    1675.3\n",
       "49709     1647.8\n",
       "149236    1644.2\n",
       "50604     1557.0\n",
       "106374    1517.3\n",
       "140513    1502.4\n",
       "140555    1491.6\n",
       "50665     1489.2\n",
       "Name: seg_length, dtype: float64"
      ]
     },
     "execution_count": 42,
     "metadata": {},
     "output_type": "execute_result"
    }
   ],
   "source": [
    "segments.seg_length.sort_values(ascending=False).head(10)"
   ]
  },
  {
   "cell_type": "markdown",
   "metadata": {},
   "source": [
    "For a `DataFrame`, we can sort according to the values of one or more columns using the `by` argument of `sort_values`:"
   ]
  },
  {
   "cell_type": "code",
   "execution_count": 43,
   "metadata": {},
   "outputs": [
    {
     "data": {
      "text/html": [
       "<div>\n",
       "<style>\n",
       "    .dataframe thead tr:only-child th {\n",
       "        text-align: right;\n",
       "    }\n",
       "\n",
       "    .dataframe thead th {\n",
       "        text-align: left;\n",
       "    }\n",
       "\n",
       "    .dataframe tbody tr th {\n",
       "        vertical-align: top;\n",
       "    }\n",
       "</style>\n",
       "<table border=\"1\" class=\"dataframe\">\n",
       "  <thead>\n",
       "    <tr style=\"text-align: right;\">\n",
       "      <th></th>\n",
       "      <th>avg_sog</th>\n",
       "      <th>max_sog</th>\n",
       "      <th>min_sog</th>\n",
       "    </tr>\n",
       "  </thead>\n",
       "  <tbody>\n",
       "    <tr>\n",
       "      <th>82222</th>\n",
       "      <td>1.5</td>\n",
       "      <td>49.9</td>\n",
       "      <td>0.0</td>\n",
       "    </tr>\n",
       "    <tr>\n",
       "      <th>167724</th>\n",
       "      <td>22.3</td>\n",
       "      <td>49.9</td>\n",
       "      <td>0.0</td>\n",
       "    </tr>\n",
       "    <tr>\n",
       "      <th>215785</th>\n",
       "      <td>2.8</td>\n",
       "      <td>49.9</td>\n",
       "      <td>0.0</td>\n",
       "    </tr>\n",
       "    <tr>\n",
       "      <th>119381</th>\n",
       "      <td>6.6</td>\n",
       "      <td>49.9</td>\n",
       "      <td>0.1</td>\n",
       "    </tr>\n",
       "    <tr>\n",
       "      <th>12479</th>\n",
       "      <td>12.2</td>\n",
       "      <td>49.9</td>\n",
       "      <td>3.5</td>\n",
       "    </tr>\n",
       "    <tr>\n",
       "      <th>119476</th>\n",
       "      <td>1.9</td>\n",
       "      <td>49.8</td>\n",
       "      <td>0.0</td>\n",
       "    </tr>\n",
       "    <tr>\n",
       "      <th>160406</th>\n",
       "      <td>9.9</td>\n",
       "      <td>49.8</td>\n",
       "      <td>0.0</td>\n",
       "    </tr>\n",
       "    <tr>\n",
       "      <th>162241</th>\n",
       "      <td>1.9</td>\n",
       "      <td>49.8</td>\n",
       "      <td>0.0</td>\n",
       "    </tr>\n",
       "    <tr>\n",
       "      <th>146139</th>\n",
       "      <td>9.6</td>\n",
       "      <td>49.8</td>\n",
       "      <td>0.1</td>\n",
       "    </tr>\n",
       "    <tr>\n",
       "      <th>160395</th>\n",
       "      <td>10.1</td>\n",
       "      <td>49.8</td>\n",
       "      <td>0.1</td>\n",
       "    </tr>\n",
       "  </tbody>\n",
       "</table>\n",
       "</div>"
      ],
      "text/plain": [
       "        avg_sog  max_sog  min_sog\n",
       "82222       1.5     49.9      0.0\n",
       "167724     22.3     49.9      0.0\n",
       "215785      2.8     49.9      0.0\n",
       "119381      6.6     49.9      0.1\n",
       "12479      12.2     49.9      3.5\n",
       "119476      1.9     49.8      0.0\n",
       "160406      9.9     49.8      0.0\n",
       "162241      1.9     49.8      0.0\n",
       "146139      9.6     49.8      0.1\n",
       "160395     10.1     49.8      0.1"
      ]
     },
     "execution_count": 43,
     "metadata": {},
     "output_type": "execute_result"
    }
   ],
   "source": [
    "segments[['avg_sog','max_sog','min_sog']].sort_values(ascending=[False,True], \n",
    "                                           by=['max_sog', 'min_sog']).head(10)"
   ]
  },
  {
   "cell_type": "markdown",
   "metadata": {},
   "source": [
    "A related method `rank` does not re-arrange data, but instead returns an index that ranks each value relative to others in the Series."
   ]
  },
  {
   "cell_type": "code",
   "execution_count": 44,
   "metadata": {},
   "outputs": [
    {
     "data": {
      "text/plain": [
       "0         204327.5\n",
       "1         255825.5\n",
       "2         243231.5\n",
       "3         235514.0\n",
       "4         235514.0\n",
       "5         262505.0\n",
       "6         262506.5\n",
       "7          41350.5\n",
       "8          77624.0\n",
       "9          65892.0\n",
       "10          1122.5\n",
       "11         63776.5\n",
       "12         45795.5\n",
       "13         86648.5\n",
       "14          2122.5\n",
       "15         13314.0\n",
       "16         37209.5\n",
       "17        212583.0\n",
       "18        112262.5\n",
       "19        199124.0\n",
       "20        245654.5\n",
       "21        127636.5\n",
       "22        143948.5\n",
       "23        207656.0\n",
       "24        239600.5\n",
       "25         65892.0\n",
       "26        136465.0\n",
       "27         90087.0\n",
       "28        195562.5\n",
       "29        140367.5\n",
       "            ...   \n",
       "262496     23629.0\n",
       "262497     23629.0\n",
       "262498     24320.5\n",
       "262499     25795.0\n",
       "262500     31198.5\n",
       "262501     33486.5\n",
       "262502     25039.5\n",
       "262503     30133.0\n",
       "262504     34668.0\n",
       "262505     19816.5\n",
       "262506     18617.0\n",
       "262507     26591.0\n",
       "262508     27400.0\n",
       "262509     20425.0\n",
       "262510     35900.0\n",
       "262511     12804.5\n",
       "262512     25039.5\n",
       "262513     15288.5\n",
       "262514     18039.5\n",
       "262515     28256.0\n",
       "262516     25795.0\n",
       "262517     19201.0\n",
       "262518     24320.5\n",
       "262519     30133.0\n",
       "262520    257641.5\n",
       "262521    258496.5\n",
       "262522    257278.5\n",
       "262523    249158.0\n",
       "262524    220004.5\n",
       "262525    255825.5\n",
       "Name: avg_sog, Length: 262526, dtype: float64"
      ]
     },
     "execution_count": 44,
     "metadata": {},
     "output_type": "execute_result"
    }
   ],
   "source": [
    "segments.avg_sog.rank()"
   ]
  },
  {
   "cell_type": "markdown",
   "metadata": {},
   "source": [
    "Ties are assigned the mean value of the tied ranks, which may result in decimal values."
   ]
  },
  {
   "cell_type": "code",
   "execution_count": 45,
   "metadata": {},
   "outputs": [
    {
     "data": {
      "text/plain": [
       "0    1.5\n",
       "1    1.5\n",
       "dtype: float64"
      ]
     },
     "execution_count": 45,
     "metadata": {},
     "output_type": "execute_result"
    }
   ],
   "source": [
    "pd.Series([100,100]).rank()"
   ]
  },
  {
   "cell_type": "markdown",
   "metadata": {},
   "source": [
    "Alternatively, you can break ties via one of several methods, such as by the order in which they occur in the dataset:"
   ]
  },
  {
   "cell_type": "code",
   "execution_count": 46,
   "metadata": {},
   "outputs": [
    {
     "data": {
      "text/plain": [
       "663            1.0\n",
       "664            2.0\n",
       "665            3.0\n",
       "666            4.0\n",
       "754            5.0\n",
       "756            6.0\n",
       "788            7.0\n",
       "795            8.0\n",
       "800            9.0\n",
       "805           10.0\n",
       "807           11.0\n",
       "808           12.0\n",
       "814           13.0\n",
       "817           14.0\n",
       "818           15.0\n",
       "1113          16.0\n",
       "1151          17.0\n",
       "1152          18.0\n",
       "1156          19.0\n",
       "1186          20.0\n",
       "1195          21.0\n",
       "1227          22.0\n",
       "1270          23.0\n",
       "1358          24.0\n",
       "2434          25.0\n",
       "2436          26.0\n",
       "2437          27.0\n",
       "2440          28.0\n",
       "2441          29.0\n",
       "2443          30.0\n",
       "            ...   \n",
       "133971    262497.0\n",
       "193181    262498.0\n",
       "179881    262499.0\n",
       "179882    262500.0\n",
       "73207     262501.0\n",
       "73225     262502.0\n",
       "75990     262503.0\n",
       "133963    262504.0\n",
       "5         262505.0\n",
       "6         262506.0\n",
       "165993    262507.0\n",
       "75731     262508.0\n",
       "73223     262509.0\n",
       "75562     262510.0\n",
       "73216     262511.0\n",
       "73224     262512.0\n",
       "1425      262513.0\n",
       "74280     262514.0\n",
       "178394    262515.0\n",
       "179152    262516.0\n",
       "73226     262517.0\n",
       "75989     262518.0\n",
       "73203     262519.0\n",
       "73212     262520.0\n",
       "73227     262521.0\n",
       "73228     262522.0\n",
       "164788    262523.0\n",
       "164786    262524.0\n",
       "78988     262525.0\n",
       "137003    262526.0\n",
       "Name: avg_sog, Length: 262526, dtype: float64"
      ]
     },
     "execution_count": 46,
     "metadata": {},
     "output_type": "execute_result"
    }
   ],
   "source": [
    "segments.avg_sog.rank(method='first').sort_values()"
   ]
  },
  {
   "cell_type": "markdown",
   "metadata": {},
   "source": [
    "Calling the `DataFrame`'s `rank` method results in the ranks of all columns:"
   ]
  },
  {
   "cell_type": "code",
   "execution_count": 47,
   "metadata": {},
   "outputs": [
    {
     "data": {
      "text/html": [
       "<div>\n",
       "<style>\n",
       "    .dataframe thead tr:only-child th {\n",
       "        text-align: right;\n",
       "    }\n",
       "\n",
       "    .dataframe thead th {\n",
       "        text-align: left;\n",
       "    }\n",
       "\n",
       "    .dataframe tbody tr th {\n",
       "        vertical-align: top;\n",
       "    }\n",
       "</style>\n",
       "<table border=\"1\" class=\"dataframe\">\n",
       "  <thead>\n",
       "    <tr style=\"text-align: right;\">\n",
       "      <th></th>\n",
       "      <th>mmsi</th>\n",
       "      <th>name</th>\n",
       "      <th>transit</th>\n",
       "      <th>segment</th>\n",
       "      <th>seg_length</th>\n",
       "      <th>avg_sog</th>\n",
       "      <th>min_sog</th>\n",
       "      <th>max_sog</th>\n",
       "      <th>pdgt10</th>\n",
       "      <th>st_time</th>\n",
       "      <th>end_time</th>\n",
       "      <th>year</th>\n",
       "    </tr>\n",
       "  </thead>\n",
       "  <tbody>\n",
       "    <tr>\n",
       "      <th>0</th>\n",
       "      <td>262522.5</td>\n",
       "      <td>14015.0</td>\n",
       "      <td>256508.0</td>\n",
       "      <td>142468.5</td>\n",
       "      <td>254075.0</td>\n",
       "      <td>58199.5</td>\n",
       "      <td>62367.5</td>\n",
       "      <td>92016.5</td>\n",
       "      <td>55855.0</td>\n",
       "      <td>245583.0</td>\n",
       "      <td>176864.5</td>\n",
       "      <td>220840.5</td>\n",
       "    </tr>\n",
       "    <tr>\n",
       "      <th>1</th>\n",
       "      <td>262522.5</td>\n",
       "      <td>194589.5</td>\n",
       "      <td>256508.0</td>\n",
       "      <td>142468.5</td>\n",
       "      <td>237380.5</td>\n",
       "      <td>6701.5</td>\n",
       "      <td>32270.5</td>\n",
       "      <td>13177.0</td>\n",
       "      <td>19842.0</td>\n",
       "      <td>236699.5</td>\n",
       "      <td>119561.0</td>\n",
       "      <td>220840.5</td>\n",
       "    </tr>\n",
       "    <tr>\n",
       "      <th>2</th>\n",
       "      <td>262522.5</td>\n",
       "      <td>14047.5</td>\n",
       "      <td>256508.0</td>\n",
       "      <td>142468.5</td>\n",
       "      <td>255526.5</td>\n",
       "      <td>19295.5</td>\n",
       "      <td>33803.5</td>\n",
       "      <td>13784.5</td>\n",
       "      <td>19842.0</td>\n",
       "      <td>236696.0</td>\n",
       "      <td>119562.0</td>\n",
       "      <td>220840.5</td>\n",
       "    </tr>\n",
       "    <tr>\n",
       "      <th>3</th>\n",
       "      <td>262522.5</td>\n",
       "      <td>14047.5</td>\n",
       "      <td>244908.5</td>\n",
       "      <td>142468.5</td>\n",
       "      <td>247002.0</td>\n",
       "      <td>27013.0</td>\n",
       "      <td>7614.0</td>\n",
       "      <td>61125.0</td>\n",
       "      <td>19842.0</td>\n",
       "      <td>236013.0</td>\n",
       "      <td>137215.0</td>\n",
       "      <td>220840.5</td>\n",
       "    </tr>\n",
       "    <tr>\n",
       "      <th>4</th>\n",
       "      <td>262522.5</td>\n",
       "      <td>194589.5</td>\n",
       "      <td>244908.5</td>\n",
       "      <td>142468.5</td>\n",
       "      <td>247002.0</td>\n",
       "      <td>27013.0</td>\n",
       "      <td>7372.0</td>\n",
       "      <td>59654.0</td>\n",
       "      <td>19842.0</td>\n",
       "      <td>236012.0</td>\n",
       "      <td>137214.0</td>\n",
       "      <td>220840.5</td>\n",
       "    </tr>\n",
       "  </tbody>\n",
       "</table>\n",
       "</div>"
      ],
      "text/plain": [
       "       mmsi      name   transit   segment  seg_length  avg_sog  min_sog  \\\n",
       "0  262522.5   14015.0  256508.0  142468.5    254075.0  58199.5  62367.5   \n",
       "1  262522.5  194589.5  256508.0  142468.5    237380.5   6701.5  32270.5   \n",
       "2  262522.5   14047.5  256508.0  142468.5    255526.5  19295.5  33803.5   \n",
       "3  262522.5   14047.5  244908.5  142468.5    247002.0  27013.0   7614.0   \n",
       "4  262522.5  194589.5  244908.5  142468.5    247002.0  27013.0   7372.0   \n",
       "\n",
       "   max_sog   pdgt10   st_time  end_time      year  \n",
       "0  92016.5  55855.0  245583.0  176864.5  220840.5  \n",
       "1  13177.0  19842.0  236699.5  119561.0  220840.5  \n",
       "2  13784.5  19842.0  236696.0  119562.0  220840.5  \n",
       "3  61125.0  19842.0  236013.0  137215.0  220840.5  \n",
       "4  59654.0  19842.0  236012.0  137214.0  220840.5  "
      ]
     },
     "execution_count": 47,
     "metadata": {},
     "output_type": "execute_result"
    }
   ],
   "source": [
    "segments.rank(ascending=False).head()"
   ]
  },
  {
   "cell_type": "markdown",
   "metadata": {},
   "source": [
    "## Hierarchical indexing\n",
    "\n",
    "While the `mmsi` (Maritime Mobile Service Identity) field represents a unique identifier in the `vessels` table, it does not in the `segments` table.\n",
    "\n",
    "We can use hierarchical indexing to build a **unique index** that may be more meaningful than the ordered set of integers that are given as a default index."
   ]
  },
  {
   "cell_type": "code",
   "execution_count": 75,
   "metadata": {},
   "outputs": [
    {
     "data": {
      "text/html": [
       "<div>\n",
       "<style>\n",
       "    .dataframe thead tr:only-child th {\n",
       "        text-align: right;\n",
       "    }\n",
       "\n",
       "    .dataframe thead th {\n",
       "        text-align: left;\n",
       "    }\n",
       "\n",
       "    .dataframe tbody tr th {\n",
       "        vertical-align: top;\n",
       "    }\n",
       "</style>\n",
       "<table border=\"1\" class=\"dataframe\">\n",
       "  <thead>\n",
       "    <tr style=\"text-align: right;\">\n",
       "      <th></th>\n",
       "      <th></th>\n",
       "      <th></th>\n",
       "      <th></th>\n",
       "      <th></th>\n",
       "      <th>seg_length</th>\n",
       "      <th>avg_sog</th>\n",
       "      <th>min_sog</th>\n",
       "      <th>max_sog</th>\n",
       "      <th>pdgt10</th>\n",
       "      <th>st_time</th>\n",
       "      <th>end_time</th>\n",
       "    </tr>\n",
       "    <tr>\n",
       "      <th>mmsi</th>\n",
       "      <th>name</th>\n",
       "      <th>year</th>\n",
       "      <th>transit</th>\n",
       "      <th>segment</th>\n",
       "      <th></th>\n",
       "      <th></th>\n",
       "      <th></th>\n",
       "      <th></th>\n",
       "      <th></th>\n",
       "      <th></th>\n",
       "      <th></th>\n",
       "    </tr>\n",
       "  </thead>\n",
       "  <tbody>\n",
       "    <tr>\n",
       "      <th rowspan=\"8\" valign=\"top\">1</th>\n",
       "      <th rowspan=\"2\" valign=\"top\">Bil Holman Dredge</th>\n",
       "      <th rowspan=\"2\" valign=\"top\">2010</th>\n",
       "      <th rowspan=\"2\" valign=\"top\">1</th>\n",
       "      <th>1</th>\n",
       "      <td>17.4</td>\n",
       "      <td>34.3</td>\n",
       "      <td>33.9</td>\n",
       "      <td>35.0</td>\n",
       "      <td>100.0</td>\n",
       "      <td>2010-03-20 16:06:00</td>\n",
       "      <td>3/20/10 16:36</td>\n",
       "    </tr>\n",
       "    <tr>\n",
       "      <th>2</th>\n",
       "      <td>76.0</td>\n",
       "      <td>34.4</td>\n",
       "      <td>33.8</td>\n",
       "      <td>34.9</td>\n",
       "      <td>100.0</td>\n",
       "      <td>2010-03-20 18:05:00</td>\n",
       "      <td>3/20/10 18:48</td>\n",
       "    </tr>\n",
       "    <tr>\n",
       "      <th rowspan=\"2\" valign=\"top\">Dredge Capt Frank</th>\n",
       "      <th rowspan=\"2\" valign=\"top\">2009</th>\n",
       "      <th>1</th>\n",
       "      <th>1</th>\n",
       "      <td>13.5</td>\n",
       "      <td>18.6</td>\n",
       "      <td>10.4</td>\n",
       "      <td>20.6</td>\n",
       "      <td>100.0</td>\n",
       "      <td>2009-04-06 14:31:00</td>\n",
       "      <td>4/6/09 15:20</td>\n",
       "    </tr>\n",
       "    <tr>\n",
       "      <th>2</th>\n",
       "      <th>1</th>\n",
       "      <td>9.2</td>\n",
       "      <td>15.4</td>\n",
       "      <td>14.6</td>\n",
       "      <td>16.2</td>\n",
       "      <td>100.0</td>\n",
       "      <td>2009-04-10 17:59:00</td>\n",
       "      <td>4/10/09 18:35</td>\n",
       "    </tr>\n",
       "    <tr>\n",
       "      <th>S.d. Gumel</th>\n",
       "      <th>2011</th>\n",
       "      <th>1</th>\n",
       "      <th>1</th>\n",
       "      <td>13.7</td>\n",
       "      <td>6.9</td>\n",
       "      <td>3.0</td>\n",
       "      <td>14.0</td>\n",
       "      <td>38.2</td>\n",
       "      <td>2011-05-04 11:28:00</td>\n",
       "      <td>5/4/11 13:30</td>\n",
       "    </tr>\n",
       "    <tr>\n",
       "      <th rowspan=\"2\" valign=\"top\">Us Gov Vessel</th>\n",
       "      <th rowspan=\"2\" valign=\"top\">2009</th>\n",
       "      <th>1</th>\n",
       "      <th>1</th>\n",
       "      <td>4.3</td>\n",
       "      <td>16.2</td>\n",
       "      <td>10.3</td>\n",
       "      <td>20.5</td>\n",
       "      <td>100.0</td>\n",
       "      <td>2009-04-06 14:36:00</td>\n",
       "      <td>4/6/09 14:55</td>\n",
       "    </tr>\n",
       "    <tr>\n",
       "      <th>2</th>\n",
       "      <th>1</th>\n",
       "      <td>9.2</td>\n",
       "      <td>15.4</td>\n",
       "      <td>14.5</td>\n",
       "      <td>16.1</td>\n",
       "      <td>100.0</td>\n",
       "      <td>2009-04-10 17:58:00</td>\n",
       "      <td>4/10/09 18:34</td>\n",
       "    </tr>\n",
       "    <tr>\n",
       "      <th>Us Govt Ves</th>\n",
       "      <th>2009</th>\n",
       "      <th>1</th>\n",
       "      <th>1</th>\n",
       "      <td>5.1</td>\n",
       "      <td>13.2</td>\n",
       "      <td>9.2</td>\n",
       "      <td>14.5</td>\n",
       "      <td>96.5</td>\n",
       "      <td>2009-02-10 16:03:00</td>\n",
       "      <td>2/10/09 16:27</td>\n",
       "    </tr>\n",
       "    <tr>\n",
       "      <th rowspan=\"2\" valign=\"top\">9</th>\n",
       "      <th rowspan=\"2\" valign=\"top\">Shearwater</th>\n",
       "      <th rowspan=\"2\" valign=\"top\">2010</th>\n",
       "      <th>4</th>\n",
       "      <th>1</th>\n",
       "      <td>11.6</td>\n",
       "      <td>8.8</td>\n",
       "      <td>7.9</td>\n",
       "      <td>10.3</td>\n",
       "      <td>0.0</td>\n",
       "      <td>2010-06-05 11:23:00</td>\n",
       "      <td>6/5/10 12:44</td>\n",
       "    </tr>\n",
       "    <tr>\n",
       "      <th>8</th>\n",
       "      <th>1</th>\n",
       "      <td>11.6</td>\n",
       "      <td>8.3</td>\n",
       "      <td>7.4</td>\n",
       "      <td>9.2</td>\n",
       "      <td>0.0</td>\n",
       "      <td>2010-06-08 11:03:00</td>\n",
       "      <td>6/8/10 12:29</td>\n",
       "    </tr>\n",
       "  </tbody>\n",
       "</table>\n",
       "</div>"
      ],
      "text/plain": [
       "                                             seg_length  avg_sog  min_sog  \\\n",
       "mmsi name              year transit segment                                 \n",
       "1    Bil Holman Dredge 2010 1       1              17.4     34.3     33.9   \n",
       "                                    2              76.0     34.4     33.8   \n",
       "     Dredge Capt Frank 2009 1       1              13.5     18.6     10.4   \n",
       "                            2       1               9.2     15.4     14.6   \n",
       "     S.d. Gumel        2011 1       1              13.7      6.9      3.0   \n",
       "     Us Gov Vessel     2009 1       1               4.3     16.2     10.3   \n",
       "                            2       1               9.2     15.4     14.5   \n",
       "     Us Govt Ves       2009 1       1               5.1     13.2      9.2   \n",
       "9    Shearwater        2010 4       1              11.6      8.8      7.9   \n",
       "                            8       1              11.6      8.3      7.4   \n",
       "\n",
       "                                             max_sog  pdgt10  \\\n",
       "mmsi name              year transit segment                    \n",
       "1    Bil Holman Dredge 2010 1       1           35.0   100.0   \n",
       "                                    2           34.9   100.0   \n",
       "     Dredge Capt Frank 2009 1       1           20.6   100.0   \n",
       "                            2       1           16.2   100.0   \n",
       "     S.d. Gumel        2011 1       1           14.0    38.2   \n",
       "     Us Gov Vessel     2009 1       1           20.5   100.0   \n",
       "                            2       1           16.1   100.0   \n",
       "     Us Govt Ves       2009 1       1           14.5    96.5   \n",
       "9    Shearwater        2010 4       1           10.3     0.0   \n",
       "                            8       1            9.2     0.0   \n",
       "\n",
       "                                                        st_time       end_time  \n",
       "mmsi name              year transit segment                                     \n",
       "1    Bil Holman Dredge 2010 1       1       2010-03-20 16:06:00  3/20/10 16:36  \n",
       "                                    2       2010-03-20 18:05:00  3/20/10 18:48  \n",
       "     Dredge Capt Frank 2009 1       1       2009-04-06 14:31:00   4/6/09 15:20  \n",
       "                            2       1       2009-04-10 17:59:00  4/10/09 18:35  \n",
       "     S.d. Gumel        2011 1       1       2011-05-04 11:28:00   5/4/11 13:30  \n",
       "     Us Gov Vessel     2009 1       1       2009-04-06 14:36:00   4/6/09 14:55  \n",
       "                            2       1       2009-04-10 17:58:00  4/10/09 18:34  \n",
       "     Us Govt Ves       2009 1       1       2009-02-10 16:03:00  2/10/09 16:27  \n",
       "9    Shearwater        2010 4       1       2010-06-05 11:23:00   6/5/10 12:44  \n",
       "                            8       1       2010-06-08 11:03:00   6/8/10 12:29  "
      ]
     },
     "execution_count": 75,
     "metadata": {},
     "output_type": "execute_result"
    }
   ],
   "source": [
    "segments_hier = segments.set_index(['mmsi', 'name', 'year', 'transit', 'segment']).sort_index(ascending=True)\n",
    "segments_hier.head(10)"
   ]
  },
  {
   "cell_type": "markdown",
   "metadata": {},
   "source": [
    "This index is a `MultiIndex` object that consists of a sequence of tuples, the elements of which is some combination of the three columns used to create the index. Where there are multiple repeated values, Pandas does not print the repeats, making it easy to identify groups of values."
   ]
  },
  {
   "cell_type": "code",
   "execution_count": 76,
   "metadata": {},
   "outputs": [
    {
     "data": {
      "text/plain": [
       "True"
      ]
     },
     "execution_count": 76,
     "metadata": {},
     "output_type": "execute_result"
    }
   ],
   "source": [
    "segments_hier.index.is_unique"
   ]
  },
  {
   "cell_type": "markdown",
   "metadata": {},
   "source": [
    "Try using this hierarchical index to retrieve the first segment of the tenth transit of the *Sentinel* (mmsi=366766980):"
   ]
  },
  {
   "cell_type": "code",
   "execution_count": 77,
   "metadata": {},
   "outputs": [
    {
     "data": {
      "text/plain": [
       "seg_length                   45.5\n",
       "avg_sog                       9.8\n",
       "min_sog                         6\n",
       "max_sog                      10.4\n",
       "pdgt10                       37.5\n",
       "st_time       2009-01-23 07:08:00\n",
       "end_time            1/23/09 10:49\n",
       "Name: (366766980, Sentinel, 2009, 10, 1), dtype: object"
      ]
     },
     "execution_count": 77,
     "metadata": {},
     "output_type": "execute_result"
    }
   ],
   "source": [
    "segments_hier.loc[(366766980, 'Sentinel', 2009, 10, 1)]"
   ]
  },
  {
   "cell_type": "markdown",
   "metadata": {},
   "source": [
    "With a hierachical index, we can select subsets of the data based on a *partial* index:"
   ]
  },
  {
   "cell_type": "code",
   "execution_count": 78,
   "metadata": {},
   "outputs": [
    {
     "data": {
      "text/plain": [
       "mmsi                            9\n",
       "name                   Shearwater\n",
       "transit                         8\n",
       "segment                         1\n",
       "seg_length                   11.6\n",
       "avg_sog                       8.3\n",
       "min_sog                       7.4\n",
       "max_sog                       9.2\n",
       "pdgt10                          0\n",
       "st_time       2010-06-08 11:03:00\n",
       "end_time             6/8/10 12:29\n",
       "year                         2010\n",
       "Name: 9, dtype: object"
      ]
     },
     "execution_count": 78,
     "metadata": {},
     "output_type": "execute_result"
    }
   ],
   "source": [
    "segments.loc[9]"
   ]
  },
  {
   "cell_type": "markdown",
   "metadata": {},
   "source": [
    "Hierarchical indices can be created on either or both axes. Here is a trivial example:"
   ]
  },
  {
   "cell_type": "code",
   "execution_count": 79,
   "metadata": {},
   "outputs": [
    {
     "data": {
      "text/html": [
       "<div>\n",
       "<style>\n",
       "    .dataframe thead tr:only-child th {\n",
       "        text-align: right;\n",
       "    }\n",
       "\n",
       "    .dataframe thead th {\n",
       "        text-align: left;\n",
       "    }\n",
       "\n",
       "    .dataframe tbody tr th {\n",
       "        vertical-align: top;\n",
       "    }\n",
       "</style>\n",
       "<table border=\"1\" class=\"dataframe\">\n",
       "  <thead>\n",
       "    <tr>\n",
       "      <th></th>\n",
       "      <th></th>\n",
       "      <th colspan=\"2\" halign=\"left\">Ohio</th>\n",
       "      <th>Colorado</th>\n",
       "    </tr>\n",
       "    <tr>\n",
       "      <th></th>\n",
       "      <th></th>\n",
       "      <th>Green</th>\n",
       "      <th>Red</th>\n",
       "      <th>Green</th>\n",
       "    </tr>\n",
       "  </thead>\n",
       "  <tbody>\n",
       "    <tr>\n",
       "      <th rowspan=\"2\" valign=\"top\">a</th>\n",
       "      <th>1</th>\n",
       "      <td>0</td>\n",
       "      <td>1</td>\n",
       "      <td>2</td>\n",
       "    </tr>\n",
       "    <tr>\n",
       "      <th>2</th>\n",
       "      <td>3</td>\n",
       "      <td>4</td>\n",
       "      <td>5</td>\n",
       "    </tr>\n",
       "    <tr>\n",
       "      <th rowspan=\"2\" valign=\"top\">b</th>\n",
       "      <th>1</th>\n",
       "      <td>6</td>\n",
       "      <td>7</td>\n",
       "      <td>8</td>\n",
       "    </tr>\n",
       "    <tr>\n",
       "      <th>2</th>\n",
       "      <td>9</td>\n",
       "      <td>10</td>\n",
       "      <td>11</td>\n",
       "    </tr>\n",
       "  </tbody>\n",
       "</table>\n",
       "</div>"
      ],
      "text/plain": [
       "     Ohio     Colorado\n",
       "    Green Red    Green\n",
       "a 1     0   1        2\n",
       "  2     3   4        5\n",
       "b 1     6   7        8\n",
       "  2     9  10       11"
      ]
     },
     "execution_count": 79,
     "metadata": {},
     "output_type": "execute_result"
    }
   ],
   "source": [
    "frame = pd.DataFrame(np.arange(12).reshape(( 4, 3)), \n",
    "                  index =[['a', 'a', 'b', 'b'], [1, 2, 1, 2]], \n",
    "                  columns =[['Ohio', 'Ohio', 'Colorado'], ['Green', 'Red', 'Green']])\n",
    "\n",
    "frame"
   ]
  },
  {
   "cell_type": "markdown",
   "metadata": {},
   "source": [
    "If you want to get fancy, both the row and column indices themselves can be given names:"
   ]
  },
  {
   "cell_type": "code",
   "execution_count": 80,
   "metadata": {},
   "outputs": [
    {
     "data": {
      "text/html": [
       "<div>\n",
       "<style>\n",
       "    .dataframe thead tr:only-child th {\n",
       "        text-align: right;\n",
       "    }\n",
       "\n",
       "    .dataframe thead th {\n",
       "        text-align: left;\n",
       "    }\n",
       "\n",
       "    .dataframe tbody tr th {\n",
       "        vertical-align: top;\n",
       "    }\n",
       "</style>\n",
       "<table border=\"1\" class=\"dataframe\">\n",
       "  <thead>\n",
       "    <tr>\n",
       "      <th></th>\n",
       "      <th>state</th>\n",
       "      <th colspan=\"2\" halign=\"left\">Ohio</th>\n",
       "      <th>Colorado</th>\n",
       "    </tr>\n",
       "    <tr>\n",
       "      <th></th>\n",
       "      <th>color</th>\n",
       "      <th>Green</th>\n",
       "      <th>Red</th>\n",
       "      <th>Green</th>\n",
       "    </tr>\n",
       "    <tr>\n",
       "      <th>key1</th>\n",
       "      <th>key2</th>\n",
       "      <th></th>\n",
       "      <th></th>\n",
       "      <th></th>\n",
       "    </tr>\n",
       "  </thead>\n",
       "  <tbody>\n",
       "    <tr>\n",
       "      <th rowspan=\"2\" valign=\"top\">a</th>\n",
       "      <th>1</th>\n",
       "      <td>0</td>\n",
       "      <td>1</td>\n",
       "      <td>2</td>\n",
       "    </tr>\n",
       "    <tr>\n",
       "      <th>2</th>\n",
       "      <td>3</td>\n",
       "      <td>4</td>\n",
       "      <td>5</td>\n",
       "    </tr>\n",
       "    <tr>\n",
       "      <th rowspan=\"2\" valign=\"top\">b</th>\n",
       "      <th>1</th>\n",
       "      <td>6</td>\n",
       "      <td>7</td>\n",
       "      <td>8</td>\n",
       "    </tr>\n",
       "    <tr>\n",
       "      <th>2</th>\n",
       "      <td>9</td>\n",
       "      <td>10</td>\n",
       "      <td>11</td>\n",
       "    </tr>\n",
       "  </tbody>\n",
       "</table>\n",
       "</div>"
      ],
      "text/plain": [
       "state      Ohio     Colorado\n",
       "color     Green Red    Green\n",
       "key1 key2                   \n",
       "a    1        0   1        2\n",
       "     2        3   4        5\n",
       "b    1        6   7        8\n",
       "     2        9  10       11"
      ]
     },
     "execution_count": 80,
     "metadata": {},
     "output_type": "execute_result"
    }
   ],
   "source": [
    "frame.index.names = ['key1', 'key2']\n",
    "frame.columns.names = ['state', 'color']\n",
    "frame"
   ]
  },
  {
   "cell_type": "markdown",
   "metadata": {},
   "source": [
    "With this, we can do all sorts of custom indexing:"
   ]
  },
  {
   "cell_type": "code",
   "execution_count": 81,
   "metadata": {},
   "outputs": [
    {
     "data": {
      "text/html": [
       "<div>\n",
       "<style>\n",
       "    .dataframe thead tr:only-child th {\n",
       "        text-align: right;\n",
       "    }\n",
       "\n",
       "    .dataframe thead th {\n",
       "        text-align: left;\n",
       "    }\n",
       "\n",
       "    .dataframe tbody tr th {\n",
       "        vertical-align: top;\n",
       "    }\n",
       "</style>\n",
       "<table border=\"1\" class=\"dataframe\">\n",
       "  <thead>\n",
       "    <tr style=\"text-align: right;\">\n",
       "      <th>color</th>\n",
       "      <th>Green</th>\n",
       "      <th>Red</th>\n",
       "    </tr>\n",
       "    <tr>\n",
       "      <th>key2</th>\n",
       "      <th></th>\n",
       "      <th></th>\n",
       "    </tr>\n",
       "  </thead>\n",
       "  <tbody>\n",
       "    <tr>\n",
       "      <th>1</th>\n",
       "      <td>0</td>\n",
       "      <td>1</td>\n",
       "    </tr>\n",
       "    <tr>\n",
       "      <th>2</th>\n",
       "      <td>3</td>\n",
       "      <td>4</td>\n",
       "    </tr>\n",
       "  </tbody>\n",
       "</table>\n",
       "</div>"
      ],
      "text/plain": [
       "color  Green  Red\n",
       "key2             \n",
       "1          0    1\n",
       "2          3    4"
      ]
     },
     "execution_count": 81,
     "metadata": {},
     "output_type": "execute_result"
    }
   ],
   "source": [
    "frame.loc['a', 'Ohio']"
   ]
  },
  {
   "cell_type": "markdown",
   "metadata": {},
   "source": [
    "#### Exercise: Try retrieving the value corresponding to `b2` in `Colorado`:"
   ]
  },
  {
   "cell_type": "code",
   "execution_count": 82,
   "metadata": {
    "collapsed": true
   },
   "outputs": [],
   "source": [
    "# Write your answer here"
   ]
  },
  {
   "cell_type": "markdown",
   "metadata": {},
   "source": [
    "Additionally, the order of the set of indices in a hierarchical `MultiIndex` can be changed by swapping them pairwise:"
   ]
  },
  {
   "cell_type": "code",
   "execution_count": 83,
   "metadata": {},
   "outputs": [
    {
     "data": {
      "text/html": [
       "<div>\n",
       "<style>\n",
       "    .dataframe thead tr:only-child th {\n",
       "        text-align: right;\n",
       "    }\n",
       "\n",
       "    .dataframe thead th {\n",
       "        text-align: left;\n",
       "    }\n",
       "\n",
       "    .dataframe tbody tr th {\n",
       "        vertical-align: top;\n",
       "    }\n",
       "</style>\n",
       "<table border=\"1\" class=\"dataframe\">\n",
       "  <thead>\n",
       "    <tr style=\"text-align: right;\">\n",
       "      <th></th>\n",
       "      <th></th>\n",
       "      <th></th>\n",
       "      <th></th>\n",
       "      <th></th>\n",
       "      <th>seg_length</th>\n",
       "      <th>avg_sog</th>\n",
       "      <th>min_sog</th>\n",
       "      <th>max_sog</th>\n",
       "      <th>pdgt10</th>\n",
       "      <th>st_time</th>\n",
       "      <th>end_time</th>\n",
       "    </tr>\n",
       "    <tr>\n",
       "      <th>name</th>\n",
       "      <th>mmsi</th>\n",
       "      <th>year</th>\n",
       "      <th>transit</th>\n",
       "      <th>segment</th>\n",
       "      <th></th>\n",
       "      <th></th>\n",
       "      <th></th>\n",
       "      <th></th>\n",
       "      <th></th>\n",
       "      <th></th>\n",
       "      <th></th>\n",
       "    </tr>\n",
       "  </thead>\n",
       "  <tbody>\n",
       "    <tr>\n",
       "      <th rowspan=\"2\" valign=\"top\">Bil Holman Dredge</th>\n",
       "      <th rowspan=\"2\" valign=\"top\">1</th>\n",
       "      <th rowspan=\"2\" valign=\"top\">2010</th>\n",
       "      <th rowspan=\"2\" valign=\"top\">1</th>\n",
       "      <th>1</th>\n",
       "      <td>17.4</td>\n",
       "      <td>34.3</td>\n",
       "      <td>33.9</td>\n",
       "      <td>35.0</td>\n",
       "      <td>100.0</td>\n",
       "      <td>2010-03-20 16:06:00</td>\n",
       "      <td>3/20/10 16:36</td>\n",
       "    </tr>\n",
       "    <tr>\n",
       "      <th>2</th>\n",
       "      <td>76.0</td>\n",
       "      <td>34.4</td>\n",
       "      <td>33.8</td>\n",
       "      <td>34.9</td>\n",
       "      <td>100.0</td>\n",
       "      <td>2010-03-20 18:05:00</td>\n",
       "      <td>3/20/10 18:48</td>\n",
       "    </tr>\n",
       "    <tr>\n",
       "      <th rowspan=\"2\" valign=\"top\">Dredge Capt Frank</th>\n",
       "      <th rowspan=\"2\" valign=\"top\">1</th>\n",
       "      <th rowspan=\"2\" valign=\"top\">2009</th>\n",
       "      <th>1</th>\n",
       "      <th>1</th>\n",
       "      <td>13.5</td>\n",
       "      <td>18.6</td>\n",
       "      <td>10.4</td>\n",
       "      <td>20.6</td>\n",
       "      <td>100.0</td>\n",
       "      <td>2009-04-06 14:31:00</td>\n",
       "      <td>4/6/09 15:20</td>\n",
       "    </tr>\n",
       "    <tr>\n",
       "      <th>2</th>\n",
       "      <th>1</th>\n",
       "      <td>9.2</td>\n",
       "      <td>15.4</td>\n",
       "      <td>14.6</td>\n",
       "      <td>16.2</td>\n",
       "      <td>100.0</td>\n",
       "      <td>2009-04-10 17:59:00</td>\n",
       "      <td>4/10/09 18:35</td>\n",
       "    </tr>\n",
       "    <tr>\n",
       "      <th>S.d. Gumel</th>\n",
       "      <th>1</th>\n",
       "      <th>2011</th>\n",
       "      <th>1</th>\n",
       "      <th>1</th>\n",
       "      <td>13.7</td>\n",
       "      <td>6.9</td>\n",
       "      <td>3.0</td>\n",
       "      <td>14.0</td>\n",
       "      <td>38.2</td>\n",
       "      <td>2011-05-04 11:28:00</td>\n",
       "      <td>5/4/11 13:30</td>\n",
       "    </tr>\n",
       "  </tbody>\n",
       "</table>\n",
       "</div>"
      ],
      "text/plain": [
       "                                             seg_length  avg_sog  min_sog  \\\n",
       "name              mmsi year transit segment                                 \n",
       "Bil Holman Dredge 1    2010 1       1              17.4     34.3     33.9   \n",
       "                                    2              76.0     34.4     33.8   \n",
       "Dredge Capt Frank 1    2009 1       1              13.5     18.6     10.4   \n",
       "                            2       1               9.2     15.4     14.6   \n",
       "S.d. Gumel        1    2011 1       1              13.7      6.9      3.0   \n",
       "\n",
       "                                             max_sog  pdgt10  \\\n",
       "name              mmsi year transit segment                    \n",
       "Bil Holman Dredge 1    2010 1       1           35.0   100.0   \n",
       "                                    2           34.9   100.0   \n",
       "Dredge Capt Frank 1    2009 1       1           20.6   100.0   \n",
       "                            2       1           16.2   100.0   \n",
       "S.d. Gumel        1    2011 1       1           14.0    38.2   \n",
       "\n",
       "                                                        st_time       end_time  \n",
       "name              mmsi year transit segment                                     \n",
       "Bil Holman Dredge 1    2010 1       1       2010-03-20 16:06:00  3/20/10 16:36  \n",
       "                                    2       2010-03-20 18:05:00  3/20/10 18:48  \n",
       "Dredge Capt Frank 1    2009 1       1       2009-04-06 14:31:00   4/6/09 15:20  \n",
       "                            2       1       2009-04-10 17:59:00  4/10/09 18:35  \n",
       "S.d. Gumel        1    2011 1       1       2011-05-04 11:28:00   5/4/11 13:30  "
      ]
     },
     "execution_count": 83,
     "metadata": {},
     "output_type": "execute_result"
    }
   ],
   "source": [
    "segments_hier.swaplevel('mmsi', 'name').head()"
   ]
  },
  {
   "cell_type": "code",
   "execution_count": 84,
   "metadata": {
    "scrolled": true
   },
   "outputs": [
    {
     "data": {
      "text/html": [
       "<div>\n",
       "<style>\n",
       "    .dataframe thead tr:only-child th {\n",
       "        text-align: right;\n",
       "    }\n",
       "\n",
       "    .dataframe thead th {\n",
       "        text-align: left;\n",
       "    }\n",
       "\n",
       "    .dataframe tbody tr th {\n",
       "        vertical-align: top;\n",
       "    }\n",
       "</style>\n",
       "<table border=\"1\" class=\"dataframe\">\n",
       "  <thead>\n",
       "    <tr style=\"text-align: right;\">\n",
       "      <th></th>\n",
       "      <th></th>\n",
       "      <th></th>\n",
       "      <th></th>\n",
       "      <th>seg_length</th>\n",
       "      <th>avg_sog</th>\n",
       "      <th>min_sog</th>\n",
       "      <th>max_sog</th>\n",
       "      <th>pdgt10</th>\n",
       "      <th>st_time</th>\n",
       "      <th>end_time</th>\n",
       "    </tr>\n",
       "    <tr>\n",
       "      <th>mmsi</th>\n",
       "      <th>year</th>\n",
       "      <th>transit</th>\n",
       "      <th>segment</th>\n",
       "      <th></th>\n",
       "      <th></th>\n",
       "      <th></th>\n",
       "      <th></th>\n",
       "      <th></th>\n",
       "      <th></th>\n",
       "      <th></th>\n",
       "    </tr>\n",
       "  </thead>\n",
       "  <tbody>\n",
       "    <tr>\n",
       "      <th rowspan=\"5\" valign=\"top\">366766980</th>\n",
       "      <th rowspan=\"5\" valign=\"top\">2008</th>\n",
       "      <th>1</th>\n",
       "      <th>1</th>\n",
       "      <td>44.6</td>\n",
       "      <td>6.6</td>\n",
       "      <td>4.9</td>\n",
       "      <td>9.3</td>\n",
       "      <td>0.0</td>\n",
       "      <td>2008-11-10 05:00:00</td>\n",
       "      <td>11/10/08 11:49</td>\n",
       "    </tr>\n",
       "    <tr>\n",
       "      <th>2</th>\n",
       "      <th>1</th>\n",
       "      <td>33.6</td>\n",
       "      <td>8.2</td>\n",
       "      <td>4.6</td>\n",
       "      <td>8.9</td>\n",
       "      <td>0.0</td>\n",
       "      <td>2008-11-12 09:53:00</td>\n",
       "      <td>11/12/08 14:00</td>\n",
       "    </tr>\n",
       "    <tr>\n",
       "      <th>3</th>\n",
       "      <th>1</th>\n",
       "      <td>27.0</td>\n",
       "      <td>6.7</td>\n",
       "      <td>2.8</td>\n",
       "      <td>11.3</td>\n",
       "      <td>10.0</td>\n",
       "      <td>2008-11-24 07:02:00</td>\n",
       "      <td>11/24/08 11:01</td>\n",
       "    </tr>\n",
       "    <tr>\n",
       "      <th>4</th>\n",
       "      <th>1</th>\n",
       "      <td>35.4</td>\n",
       "      <td>10.0</td>\n",
       "      <td>6.7</td>\n",
       "      <td>10.4</td>\n",
       "      <td>69.1</td>\n",
       "      <td>2008-12-05 20:20:00</td>\n",
       "      <td>12/5/08 23:53</td>\n",
       "    </tr>\n",
       "    <tr>\n",
       "      <th>5</th>\n",
       "      <th>1</th>\n",
       "      <td>100.9</td>\n",
       "      <td>5.2</td>\n",
       "      <td>2.6</td>\n",
       "      <td>8.9</td>\n",
       "      <td>0.0</td>\n",
       "      <td>2008-12-17 00:52:00</td>\n",
       "      <td>12/17/08 20:18</td>\n",
       "    </tr>\n",
       "  </tbody>\n",
       "</table>\n",
       "</div>"
      ],
      "text/plain": [
       "                                seg_length  avg_sog  min_sog  max_sog  pdgt10  \\\n",
       "mmsi      year transit segment                                                  \n",
       "366766980 2008 1       1              44.6      6.6      4.9      9.3     0.0   \n",
       "               2       1              33.6      8.2      4.6      8.9     0.0   \n",
       "               3       1              27.0      6.7      2.8     11.3    10.0   \n",
       "               4       1              35.4     10.0      6.7     10.4    69.1   \n",
       "               5       1             100.9      5.2      2.6      8.9     0.0   \n",
       "\n",
       "                                           st_time        end_time  \n",
       "mmsi      year transit segment                                      \n",
       "366766980 2008 1       1       2008-11-10 05:00:00  11/10/08 11:49  \n",
       "               2       1       2008-11-12 09:53:00  11/12/08 14:00  \n",
       "               3       1       2008-11-24 07:02:00  11/24/08 11:01  \n",
       "               4       1       2008-12-05 20:20:00   12/5/08 23:53  \n",
       "               5       1       2008-12-17 00:52:00  12/17/08 20:18  "
      ]
     },
     "execution_count": 84,
     "metadata": {},
     "output_type": "execute_result"
    }
   ],
   "source": [
    "segments_hier.swaplevel('mmsi', 'name').loc['Sentinel'].head()"
   ]
  },
  {
   "cell_type": "markdown",
   "metadata": {},
   "source": [
    "Alternately, one can index based on an arbitrary level using the `xs` (cross-section) method:"
   ]
  },
  {
   "cell_type": "code",
   "execution_count": 86,
   "metadata": {},
   "outputs": [
    {
     "data": {
      "text/html": [
       "<div>\n",
       "<style>\n",
       "    .dataframe thead tr:only-child th {\n",
       "        text-align: right;\n",
       "    }\n",
       "\n",
       "    .dataframe thead th {\n",
       "        text-align: left;\n",
       "    }\n",
       "\n",
       "    .dataframe tbody tr th {\n",
       "        vertical-align: top;\n",
       "    }\n",
       "</style>\n",
       "<table border=\"1\" class=\"dataframe\">\n",
       "  <thead>\n",
       "    <tr style=\"text-align: right;\">\n",
       "      <th></th>\n",
       "      <th></th>\n",
       "      <th></th>\n",
       "      <th></th>\n",
       "      <th>seg_length</th>\n",
       "      <th>avg_sog</th>\n",
       "      <th>min_sog</th>\n",
       "      <th>max_sog</th>\n",
       "      <th>pdgt10</th>\n",
       "      <th>st_time</th>\n",
       "      <th>end_time</th>\n",
       "    </tr>\n",
       "    <tr>\n",
       "      <th>mmsi</th>\n",
       "      <th>year</th>\n",
       "      <th>transit</th>\n",
       "      <th>segment</th>\n",
       "      <th></th>\n",
       "      <th></th>\n",
       "      <th></th>\n",
       "      <th></th>\n",
       "      <th></th>\n",
       "      <th></th>\n",
       "      <th></th>\n",
       "    </tr>\n",
       "  </thead>\n",
       "  <tbody>\n",
       "    <tr>\n",
       "      <th rowspan=\"5\" valign=\"top\">366766980</th>\n",
       "      <th rowspan=\"5\" valign=\"top\">2008</th>\n",
       "      <th>1</th>\n",
       "      <th>1</th>\n",
       "      <td>44.6</td>\n",
       "      <td>6.6</td>\n",
       "      <td>4.9</td>\n",
       "      <td>9.3</td>\n",
       "      <td>0.0</td>\n",
       "      <td>2008-11-10 05:00:00</td>\n",
       "      <td>11/10/08 11:49</td>\n",
       "    </tr>\n",
       "    <tr>\n",
       "      <th>2</th>\n",
       "      <th>1</th>\n",
       "      <td>33.6</td>\n",
       "      <td>8.2</td>\n",
       "      <td>4.6</td>\n",
       "      <td>8.9</td>\n",
       "      <td>0.0</td>\n",
       "      <td>2008-11-12 09:53:00</td>\n",
       "      <td>11/12/08 14:00</td>\n",
       "    </tr>\n",
       "    <tr>\n",
       "      <th>3</th>\n",
       "      <th>1</th>\n",
       "      <td>27.0</td>\n",
       "      <td>6.7</td>\n",
       "      <td>2.8</td>\n",
       "      <td>11.3</td>\n",
       "      <td>10.0</td>\n",
       "      <td>2008-11-24 07:02:00</td>\n",
       "      <td>11/24/08 11:01</td>\n",
       "    </tr>\n",
       "    <tr>\n",
       "      <th>4</th>\n",
       "      <th>1</th>\n",
       "      <td>35.4</td>\n",
       "      <td>10.0</td>\n",
       "      <td>6.7</td>\n",
       "      <td>10.4</td>\n",
       "      <td>69.1</td>\n",
       "      <td>2008-12-05 20:20:00</td>\n",
       "      <td>12/5/08 23:53</td>\n",
       "    </tr>\n",
       "    <tr>\n",
       "      <th>5</th>\n",
       "      <th>1</th>\n",
       "      <td>100.9</td>\n",
       "      <td>5.2</td>\n",
       "      <td>2.6</td>\n",
       "      <td>8.9</td>\n",
       "      <td>0.0</td>\n",
       "      <td>2008-12-17 00:52:00</td>\n",
       "      <td>12/17/08 20:18</td>\n",
       "    </tr>\n",
       "  </tbody>\n",
       "</table>\n",
       "</div>"
      ],
      "text/plain": [
       "                                seg_length  avg_sog  min_sog  max_sog  pdgt10  \\\n",
       "mmsi      year transit segment                                                  \n",
       "366766980 2008 1       1              44.6      6.6      4.9      9.3     0.0   \n",
       "               2       1              33.6      8.2      4.6      8.9     0.0   \n",
       "               3       1              27.0      6.7      2.8     11.3    10.0   \n",
       "               4       1              35.4     10.0      6.7     10.4    69.1   \n",
       "               5       1             100.9      5.2      2.6      8.9     0.0   \n",
       "\n",
       "                                           st_time        end_time  \n",
       "mmsi      year transit segment                                      \n",
       "366766980 2008 1       1       2008-11-10 05:00:00  11/10/08 11:49  \n",
       "               2       1       2008-11-12 09:53:00  11/12/08 14:00  \n",
       "               3       1       2008-11-24 07:02:00  11/24/08 11:01  \n",
       "               4       1       2008-12-05 20:20:00   12/5/08 23:53  \n",
       "               5       1       2008-12-17 00:52:00  12/17/08 20:18  "
      ]
     },
     "execution_count": 86,
     "metadata": {},
     "output_type": "execute_result"
    }
   ],
   "source": [
    "segments_hier.xs('Sentinel', level='name').head()"
   ]
  },
  {
   "cell_type": "markdown",
   "metadata": {},
   "source": [
    "Perhaps the easiest way to extract data from arbitrary levels of a `MultiIndex` is to use the `IndexSlice` function. For example, if we want the first two transits from all trips in 2009 and 2010:"
   ]
  },
  {
   "cell_type": "code",
   "execution_count": 97,
   "metadata": {},
   "outputs": [
    {
     "data": {
      "text/plain": [
       "mmsi  name               year  transit  segment\n",
       "1     Bil Holman Dredge  2010  1        1          17.4\n",
       "                                        2          76.0\n",
       "      Dredge Capt Frank  2009  1        1          13.5\n",
       "                               2        1           9.2\n",
       "      Us Gov Vessel      2009  1        1           4.3\n",
       "                               2        1           9.2\n",
       "      Us Govt Ves        2009  1        1           5.1\n",
       "74    Mcfaul             2009  1        2           1.4\n",
       "      Sarah Bell         2009  1        1           7.4\n",
       "103   Ron G              2009  1        1          87.5\n",
       "                                        3           1.4\n",
       "                               2        1          30.7\n",
       "Name: seg_length, dtype: float64"
      ]
     },
     "execution_count": 97,
     "metadata": {},
     "output_type": "execute_result"
    }
   ],
   "source": [
    "segments_hier.loc[pd.IndexSlice[:, :, 2009:2010, [1,2]], 'seg_length'].head(12)"
   ]
  },
  {
   "cell_type": "markdown",
   "metadata": {},
   "source": [
    "The `:` tells pandas to include the entire level. What `IndexSlice` does is generate a Python `slice` object that represents what is required from each level. So, the above is equivalent to:\n",
    "\n",
    "    (slice(None, None, None), slice(None, None, None), [2009, 2010], [1, 2])"
   ]
  },
  {
   "cell_type": "markdown",
   "metadata": {},
   "source": [
    "Data can also be sorted by any index level, using `sort_index` with the `level` argument appropriately specified:"
   ]
  },
  {
   "cell_type": "code",
   "execution_count": 99,
   "metadata": {},
   "outputs": [
    {
     "data": {
      "text/html": [
       "<div>\n",
       "<style>\n",
       "    .dataframe thead tr:only-child th {\n",
       "        text-align: right;\n",
       "    }\n",
       "\n",
       "    .dataframe thead th {\n",
       "        text-align: left;\n",
       "    }\n",
       "\n",
       "    .dataframe tbody tr th {\n",
       "        vertical-align: top;\n",
       "    }\n",
       "</style>\n",
       "<table border=\"1\" class=\"dataframe\">\n",
       "  <thead>\n",
       "    <tr style=\"text-align: right;\">\n",
       "      <th></th>\n",
       "      <th>mmsi</th>\n",
       "      <th>name</th>\n",
       "      <th>transit</th>\n",
       "      <th>segment</th>\n",
       "      <th>seg_length</th>\n",
       "      <th>avg_sog</th>\n",
       "      <th>min_sog</th>\n",
       "      <th>max_sog</th>\n",
       "      <th>pdgt10</th>\n",
       "      <th>st_time</th>\n",
       "      <th>end_time</th>\n",
       "      <th>year</th>\n",
       "    </tr>\n",
       "  </thead>\n",
       "  <tbody>\n",
       "    <tr>\n",
       "      <th>262525</th>\n",
       "      <td>999999999</td>\n",
       "      <td>Triple Attraction</td>\n",
       "      <td>8</td>\n",
       "      <td>1</td>\n",
       "      <td>19.8</td>\n",
       "      <td>18.6</td>\n",
       "      <td>16.1</td>\n",
       "      <td>19.5</td>\n",
       "      <td>100.0</td>\n",
       "      <td>2010-06-18 10:19:00</td>\n",
       "      <td>6/18/10 11:22</td>\n",
       "      <td>2010</td>\n",
       "    </tr>\n",
       "    <tr>\n",
       "      <th>262524</th>\n",
       "      <td>999999999</td>\n",
       "      <td>Triple Attraction</td>\n",
       "      <td>7</td>\n",
       "      <td>1</td>\n",
       "      <td>31.5</td>\n",
       "      <td>14.2</td>\n",
       "      <td>13.4</td>\n",
       "      <td>15.1</td>\n",
       "      <td>100.0</td>\n",
       "      <td>2010-06-18 02:52:00</td>\n",
       "      <td>6/18/10 5:03</td>\n",
       "      <td>2010</td>\n",
       "    </tr>\n",
       "    <tr>\n",
       "      <th>262523</th>\n",
       "      <td>999999999</td>\n",
       "      <td>Triple Attraction</td>\n",
       "      <td>6</td>\n",
       "      <td>1</td>\n",
       "      <td>17.4</td>\n",
       "      <td>17.0</td>\n",
       "      <td>14.7</td>\n",
       "      <td>18.4</td>\n",
       "      <td>100.0</td>\n",
       "      <td>2010-06-17 19:16:00</td>\n",
       "      <td>6/17/10 20:17</td>\n",
       "      <td>2010</td>\n",
       "    </tr>\n",
       "    <tr>\n",
       "      <th>262522</th>\n",
       "      <td>999999999</td>\n",
       "      <td>Triple Attraction</td>\n",
       "      <td>4</td>\n",
       "      <td>1</td>\n",
       "      <td>18.7</td>\n",
       "      <td>19.2</td>\n",
       "      <td>18.4</td>\n",
       "      <td>19.9</td>\n",
       "      <td>100.0</td>\n",
       "      <td>2010-06-15 21:32:00</td>\n",
       "      <td>6/15/10 22:29</td>\n",
       "      <td>2010</td>\n",
       "    </tr>\n",
       "    <tr>\n",
       "      <th>262521</th>\n",
       "      <td>999999999</td>\n",
       "      <td>Triple Attraction</td>\n",
       "      <td>3</td>\n",
       "      <td>1</td>\n",
       "      <td>5.3</td>\n",
       "      <td>20.0</td>\n",
       "      <td>19.6</td>\n",
       "      <td>20.4</td>\n",
       "      <td>100.0</td>\n",
       "      <td>2010-06-15 12:49:00</td>\n",
       "      <td>6/15/10 13:05</td>\n",
       "      <td>2010</td>\n",
       "    </tr>\n",
       "  </tbody>\n",
       "</table>\n",
       "</div>"
      ],
      "text/plain": [
       "             mmsi               name  transit  segment  seg_length  avg_sog  \\\n",
       "262525  999999999  Triple Attraction        8        1        19.8     18.6   \n",
       "262524  999999999  Triple Attraction        7        1        31.5     14.2   \n",
       "262523  999999999  Triple Attraction        6        1        17.4     17.0   \n",
       "262522  999999999  Triple Attraction        4        1        18.7     19.2   \n",
       "262521  999999999  Triple Attraction        3        1         5.3     20.0   \n",
       "\n",
       "        min_sog  max_sog  pdgt10             st_time       end_time  year  \n",
       "262525     16.1     19.5   100.0 2010-06-18 10:19:00  6/18/10 11:22  2010  \n",
       "262524     13.4     15.1   100.0 2010-06-18 02:52:00   6/18/10 5:03  2010  \n",
       "262523     14.7     18.4   100.0 2010-06-17 19:16:00  6/17/10 20:17  2010  \n",
       "262522     18.4     19.9   100.0 2010-06-15 21:32:00  6/15/10 22:29  2010  \n",
       "262521     19.6     20.4   100.0 2010-06-15 12:49:00  6/15/10 13:05  2010  "
      ]
     },
     "execution_count": 99,
     "metadata": {},
     "output_type": "execute_result"
    }
   ],
   "source": [
    "segments.sort_index(level='max_sog', ascending=False).head()"
   ]
  },
  {
   "cell_type": "markdown",
   "metadata": {},
   "source": [
    "## Missing data\n",
    "\n",
    "The occurence of missing data is so prevalent that it pays to use tools like Pandas, which seamlessly integrates missing data handling so that it can be dealt with easily, and in the manner required by the analysis at hand.\n",
    "\n",
    "Missing data are represented in `Series` and `DataFrame` objects by the `NaN` floating point value. However, `None` is also treated as missing, since it is commonly used as such in other contexts (*e.g.* NumPy)."
   ]
  },
  {
   "cell_type": "code",
   "execution_count": null,
   "metadata": {
    "collapsed": true
   },
   "outputs": [],
   "source": [
    "foo = pd.Series([np.nan, -3, None, 'foobar'])\n",
    "foo"
   ]
  },
  {
   "cell_type": "code",
   "execution_count": null,
   "metadata": {
    "collapsed": true
   },
   "outputs": [],
   "source": [
    "foo.isnull()"
   ]
  },
  {
   "cell_type": "markdown",
   "metadata": {},
   "source": [
    "To illustrate how to deal with missing values in pandas, we will import an educational database, which reports test scores for children with hearing disabilities, along with associated covariates, several of which are missing."
   ]
  },
  {
   "cell_type": "code",
   "execution_count": null,
   "metadata": {
    "collapsed": true
   },
   "outputs": [],
   "source": [
    "testing = pd.read_csv('../data/test_scores.csv', index_col=0)\n",
    "testing.head(10)"
   ]
  },
  {
   "cell_type": "markdown",
   "metadata": {},
   "source": [
    "Missing values may be dropped or indexed out:"
   ]
  },
  {
   "cell_type": "markdown",
   "metadata": {},
   "source": [
    "By default, `dropna` drops entire rows in which one or more values are missing."
   ]
  },
  {
   "cell_type": "code",
   "execution_count": null,
   "metadata": {
    "collapsed": true
   },
   "outputs": [],
   "source": [
    "testing.dropna().head(10)"
   ]
  },
  {
   "cell_type": "markdown",
   "metadata": {},
   "source": [
    "A similar result can be obtained via indexing."
   ]
  },
  {
   "cell_type": "code",
   "execution_count": null,
   "metadata": {
    "collapsed": true
   },
   "outputs": [],
   "source": [
    "testing.isnull().head()"
   ]
  },
  {
   "cell_type": "code",
   "execution_count": null,
   "metadata": {
    "collapsed": true
   },
   "outputs": [],
   "source": [
    "testing[testing.notnull()].head()"
   ]
  },
  {
   "cell_type": "markdown",
   "metadata": {},
   "source": [
    "This can be overridden by passing the `how='all'` argument, which only drops a row when every field is a missing value."
   ]
  },
  {
   "cell_type": "code",
   "execution_count": null,
   "metadata": {
    "collapsed": true
   },
   "outputs": [],
   "source": [
    "testing.dropna(how='all')"
   ]
  },
  {
   "cell_type": "markdown",
   "metadata": {},
   "source": [
    "This can be customized further by specifying how many values need to be present before a row is dropped via the `thresh` argument."
   ]
  },
  {
   "cell_type": "code",
   "execution_count": null,
   "metadata": {
    "collapsed": true
   },
   "outputs": [],
   "source": [
    "testing.dropna(thresh=10)"
   ]
  },
  {
   "cell_type": "markdown",
   "metadata": {},
   "source": [
    "This is typically used in time series applications, where there are repeated measurements that are incomplete for some subjects."
   ]
  },
  {
   "cell_type": "markdown",
   "metadata": {},
   "source": [
    "### Exercise\n",
    "\n",
    "Try using the `axis` argument to drop columns with missing values:"
   ]
  },
  {
   "cell_type": "code",
   "execution_count": null,
   "metadata": {
    "collapsed": true
   },
   "outputs": [],
   "source": [
    "# Write your answer here"
   ]
  },
  {
   "cell_type": "markdown",
   "metadata": {},
   "source": [
    "Rather than omitting missing data from an analysis, in some cases it may be suitable to fill the missing value in, either with a default value (such as zero) or a value that is either imputed or carried forward/backward from similar data points. We can do this programmatically in Pandas with the `fillna` argument."
   ]
  },
  {
   "cell_type": "code",
   "execution_count": null,
   "metadata": {
    "collapsed": true
   },
   "outputs": [],
   "source": [
    "testing.fillna(0).head(10)"
   ]
  },
  {
   "cell_type": "code",
   "execution_count": null,
   "metadata": {
    "collapsed": true
   },
   "outputs": [],
   "source": [
    "testing.fillna({'family_inv': 0, 'mother_hs':1}).head(10)"
   ]
  },
  {
   "cell_type": "markdown",
   "metadata": {},
   "source": [
    "Notice that `fillna` by default returns a new object with the desired filling behavior, rather than changing the `Series` or  `DataFrame` in place (**in general, we like to do this, by the way!**)."
   ]
  },
  {
   "cell_type": "markdown",
   "metadata": {},
   "source": [
    "Missing values can also be interpolated, using any one of a variety of methods:"
   ]
  },
  {
   "cell_type": "code",
   "execution_count": null,
   "metadata": {
    "collapsed": true,
    "scrolled": true
   },
   "outputs": [],
   "source": [
    "testing.fillna(method='bfill').head(10)"
   ]
  },
  {
   "cell_type": "markdown",
   "metadata": {},
   "source": [
    "## Data summarization\n",
    "\n",
    "We often wish to summarize data in `Series` or `DataFrame` objects, so that they can more easily be understood or compared with similar data. The NumPy package contains several functions that are useful here, but several summarization or reduction methods are built into Pandas data structures."
   ]
  },
  {
   "cell_type": "code",
   "execution_count": null,
   "metadata": {
    "collapsed": true
   },
   "outputs": [],
   "source": [
    "testing.sum()"
   ]
  },
  {
   "cell_type": "markdown",
   "metadata": {},
   "source": [
    "Clearly, `sum` is more meaningful for some columns than others. For methods like `mean` for which application to string variables is not just meaningless, but impossible, these columns are automatically exculded:"
   ]
  },
  {
   "cell_type": "code",
   "execution_count": null,
   "metadata": {
    "collapsed": true
   },
   "outputs": [],
   "source": [
    "testing.mean()"
   ]
  },
  {
   "cell_type": "markdown",
   "metadata": {},
   "source": [
    "The important difference between NumPy's functions and Pandas' methods is that the latter have built-in support for handling missing data."
   ]
  },
  {
   "cell_type": "markdown",
   "metadata": {},
   "source": [
    "Sometimes we may not want to ignore missing values, and allow the `nan` to propagate."
   ]
  },
  {
   "cell_type": "code",
   "execution_count": null,
   "metadata": {
    "collapsed": true
   },
   "outputs": [],
   "source": [
    "testing.mean(skipna=False)"
   ]
  },
  {
   "cell_type": "markdown",
   "metadata": {},
   "source": [
    "Passing `axis=1` will summarize over rows instead of columns, which only makes sense in certain situations."
   ]
  },
  {
   "cell_type": "code",
   "execution_count": null,
   "metadata": {
    "collapsed": true
   },
   "outputs": [],
   "source": [
    "nonenglish_nonwhite_withHS = testing[['non_english', 'mother_hs', 'non_white']].prod(axis=1)\n",
    "\n",
    "nonenglish_nonwhite_withHS"
   ]
  },
  {
   "cell_type": "markdown",
   "metadata": {},
   "source": [
    "A useful summarization that gives a quick snapshot of multiple statistics for a `Series` or `DataFrame` is `describe`:"
   ]
  },
  {
   "cell_type": "code",
   "execution_count": null,
   "metadata": {
    "collapsed": true
   },
   "outputs": [],
   "source": [
    "testing.describe()"
   ]
  },
  {
   "cell_type": "markdown",
   "metadata": {},
   "source": [
    "`describe` can detect non-numeric data and sometimes yield useful information about it."
   ]
  },
  {
   "cell_type": "code",
   "execution_count": null,
   "metadata": {
    "collapsed": true
   },
   "outputs": [],
   "source": [
    "testing.non_english.describe()"
   ]
  },
  {
   "cell_type": "markdown",
   "metadata": {},
   "source": [
    "We can also calculate summary statistics *across* multiple columns, for example, correlation and covariance.\n",
    "\n",
    "$$cov(x,y) = \\sum_i (x_i - \\bar{x})(y_i - \\bar{y})$$"
   ]
  },
  {
   "cell_type": "code",
   "execution_count": null,
   "metadata": {
    "collapsed": true
   },
   "outputs": [],
   "source": [
    "testing.score.cov(testing.age_test)"
   ]
  },
  {
   "cell_type": "markdown",
   "metadata": {},
   "source": [
    "$$corr(x,y) = \\frac{cov(x,y)}{(n-1)s_x s_y} = \\frac{\\sum_i (x_i - \\bar{x})(y_i - \\bar{y})}{\\sqrt{\\sum_i (x_i - \\bar{x})^2 \\sum_i (y_i - \\bar{y})^2}}$$"
   ]
  },
  {
   "cell_type": "code",
   "execution_count": null,
   "metadata": {
    "collapsed": true
   },
   "outputs": [],
   "source": [
    "testing.score.corr(testing.age_test)"
   ]
  },
  {
   "cell_type": "markdown",
   "metadata": {},
   "source": [
    "Try running `corr` on the entire `testing` DataFrame to see what is returned:"
   ]
  },
  {
   "cell_type": "code",
   "execution_count": null,
   "metadata": {
    "collapsed": true
   },
   "outputs": [],
   "source": [
    "# Write answer here"
   ]
  },
  {
   "cell_type": "markdown",
   "metadata": {},
   "source": [
    "If we have a `DataFrame` with a hierarchical index (or indices), summary statistics can be applied with respect to any of the index levels:"
   ]
  },
  {
   "cell_type": "code",
   "execution_count": null,
   "metadata": {
    "collapsed": true
   },
   "outputs": [],
   "source": [
    "segments_hier.head()"
   ]
  },
  {
   "cell_type": "code",
   "execution_count": null,
   "metadata": {
    "collapsed": true
   },
   "outputs": [],
   "source": [
    "segments_hier.sum(level='transit').seg_length"
   ]
  },
  {
   "cell_type": "markdown",
   "metadata": {},
   "source": [
    "## Writing Data to Files\n",
    "\n",
    "As well as being able to read several data input formats, Pandas can also export data to a variety of storage formats. We will bring your attention to just a couple of these."
   ]
  },
  {
   "cell_type": "code",
   "execution_count": null,
   "metadata": {
    "collapsed": true
   },
   "outputs": [],
   "source": [
    "testing.to_csv(\"testing.csv\")"
   ]
  },
  {
   "cell_type": "markdown",
   "metadata": {},
   "source": [
    "The `to_csv` method writes a `DataFrame` to a comma-separated values (csv) file. You can specify custom delimiters (via `sep` argument), how missing values are written (via `na_rep` argument), whether the index is writen (via `index` argument), whether the header is included (via `header` argument), among other options."
   ]
  },
  {
   "cell_type": "markdown",
   "metadata": {},
   "source": [
    "An efficient way of storing data to disk is in binary format. Pandas supports this using Python’s built-in pickle serialization."
   ]
  },
  {
   "cell_type": "code",
   "execution_count": null,
   "metadata": {
    "collapsed": true
   },
   "outputs": [],
   "source": [
    "testing.to_pickle(\"testing_pickle\")"
   ]
  },
  {
   "cell_type": "markdown",
   "metadata": {},
   "source": [
    "The complement to `to_pickle` is the `read_pickle` function, which restores the pickle to a `DataFrame` or `Series`:"
   ]
  },
  {
   "cell_type": "code",
   "execution_count": null,
   "metadata": {
    "collapsed": true
   },
   "outputs": [],
   "source": [
    "pd.read_pickle(\"testing_pickle\").head()"
   ]
  },
  {
   "cell_type": "markdown",
   "metadata": {},
   "source": [
    "As Wes warns in his book, it is recommended that binary storage of data via pickle only be used as a temporary storage format, in situations where speed is relevant. This is because there is no guarantee that the pickle format will not change with future versions of Python."
   ]
  },
  {
   "cell_type": "markdown",
   "metadata": {},
   "source": [
    "## References\n",
    "\n",
    "[Python for Data Analysis](http://shop.oreilly.com/product/0636920023784.do) Wes McKinney"
   ]
  }
 ],
 "metadata": {
  "kernelspec": {
   "display_name": "Python 3",
   "language": "python",
   "name": "python3"
  },
  "language_info": {
   "codemirror_mode": {
    "name": "ipython",
    "version": 3
   },
   "file_extension": ".py",
   "mimetype": "text/x-python",
   "name": "python",
   "nbconvert_exporter": "python",
   "pygments_lexer": "ipython3",
   "version": "3.6.1"
  },
  "toc": {
   "colors": {
    "hover_highlight": "#DAA520",
    "running_highlight": "#FF0000",
    "selected_highlight": "#FFD700"
   },
   "moveMenuLeft": true,
   "nav_menu": {
    "height": "210px",
    "width": "252px"
   },
   "navigate_menu": true,
   "number_sections": true,
   "sideBar": true,
   "threshold": "2",
   "toc_cell": true,
   "toc_section_display": "block",
   "toc_window_display": true,
   "widenNotebook": false
  },
  "widgets": {
   "state": {},
   "version": "1.1.2"
  }
 },
 "nbformat": 4,
 "nbformat_minor": 1
}
