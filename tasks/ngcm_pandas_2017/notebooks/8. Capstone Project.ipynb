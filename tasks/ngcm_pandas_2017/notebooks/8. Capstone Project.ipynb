{
 "cells": [
  {
   "cell_type": "markdown",
   "metadata": {},
   "source": [
    "# Compiling and Visualizing Ebola Data\n",
    "\n",
    "![ebola](images/ebola.jpg)\n",
    "\n",
    "The data/ebola folder contains summarized reports of Ebola cases from three countries during the recent outbreak of the disease in West Africa. For each country, there are daily reports that contain various information about the outbreak in several cities in each country.\n",
    "\n",
    "The data are taken from [Caitlin Rivers' ebola GitHub repository](https://github.com/cmrivers/ebola), and are licenced for both commercial and non-commercial use. The tutorial repository contains a subset of this data from three countries (Sierra Leone, Liberia and Guinea) that we will use as an example. They reside in a nested subdirectory in the data directory."
   ]
  },
  {
   "cell_type": "code",
   "execution_count": 2,
   "metadata": {},
   "outputs": [
    {
     "data": {
      "text/plain": [
       "['LICENSE', 'guinea_data', 'liberia_data', 'sl_data']"
      ]
     },
     "execution_count": 2,
     "metadata": {},
     "output_type": "execute_result"
    }
   ],
   "source": [
    "ebola_dirs = !ls ../data/ebola/\n",
    "ebola_dirs"
   ]
  },
  {
   "cell_type": "markdown",
   "metadata": {},
   "source": [
    "Within each country directory, there are CSV files containing daily information regarding the state of the outbreak for that country. The first step is to efficiently import all the relevant files."
   ]
  },
  {
   "cell_type": "code",
   "execution_count": 4,
   "metadata": {},
   "outputs": [
    {
     "data": {
      "text/html": [
       "<div>\n",
       "<style>\n",
       "    .dataframe thead tr:only-child th {\n",
       "        text-align: right;\n",
       "    }\n",
       "\n",
       "    .dataframe thead th {\n",
       "        text-align: left;\n",
       "    }\n",
       "\n",
       "    .dataframe tbody tr th {\n",
       "        vertical-align: top;\n",
       "    }\n",
       "</style>\n",
       "<table border=\"1\" class=\"dataframe\">\n",
       "  <thead>\n",
       "    <tr style=\"text-align: right;\">\n",
       "      <th></th>\n",
       "      <th>date</th>\n",
       "      <th>variable</th>\n",
       "      <th>Kailahun</th>\n",
       "      <th>Kenema</th>\n",
       "      <th>Kono</th>\n",
       "      <th>Kambia</th>\n",
       "      <th>Koinadugu</th>\n",
       "      <th>Bombali</th>\n",
       "      <th>Tonkolili</th>\n",
       "      <th>Port Loko</th>\n",
       "      <th>Pujehun</th>\n",
       "      <th>Bo</th>\n",
       "      <th>Moyamba</th>\n",
       "      <th>Bonthe</th>\n",
       "      <th>Western area urban</th>\n",
       "      <th>Western area rural</th>\n",
       "      <th>National</th>\n",
       "    </tr>\n",
       "  </thead>\n",
       "  <tbody>\n",
       "    <tr>\n",
       "      <th>0</th>\n",
       "      <td>2014-08-12</td>\n",
       "      <td>population</td>\n",
       "      <td>465048</td>\n",
       "      <td>653013</td>\n",
       "      <td>325003.0</td>\n",
       "      <td>341690.0</td>\n",
       "      <td>335471.0</td>\n",
       "      <td>494139</td>\n",
       "      <td>434937</td>\n",
       "      <td>557978</td>\n",
       "      <td>335574</td>\n",
       "      <td>654142</td>\n",
       "      <td>278119</td>\n",
       "      <td>168729.0</td>\n",
       "      <td>1040888</td>\n",
       "      <td>263619</td>\n",
       "      <td>6348350</td>\n",
       "    </tr>\n",
       "    <tr>\n",
       "      <th>1</th>\n",
       "      <td>2014-08-12</td>\n",
       "      <td>new_noncase</td>\n",
       "      <td>0</td>\n",
       "      <td>3</td>\n",
       "      <td>0.0</td>\n",
       "      <td>0.0</td>\n",
       "      <td>0.0</td>\n",
       "      <td>0</td>\n",
       "      <td>0</td>\n",
       "      <td>1</td>\n",
       "      <td>0</td>\n",
       "      <td>0</td>\n",
       "      <td>0</td>\n",
       "      <td>0.0</td>\n",
       "      <td>0</td>\n",
       "      <td>0</td>\n",
       "      <td>4</td>\n",
       "    </tr>\n",
       "    <tr>\n",
       "      <th>2</th>\n",
       "      <td>2014-08-12</td>\n",
       "      <td>new_suspected</td>\n",
       "      <td>0</td>\n",
       "      <td>9</td>\n",
       "      <td>0.0</td>\n",
       "      <td>0.0</td>\n",
       "      <td>0.0</td>\n",
       "      <td>0</td>\n",
       "      <td>0</td>\n",
       "      <td>0</td>\n",
       "      <td>0</td>\n",
       "      <td>1</td>\n",
       "      <td>0</td>\n",
       "      <td>0.0</td>\n",
       "      <td>0</td>\n",
       "      <td>0</td>\n",
       "      <td>10</td>\n",
       "    </tr>\n",
       "    <tr>\n",
       "      <th>3</th>\n",
       "      <td>2014-08-12</td>\n",
       "      <td>new_probable</td>\n",
       "      <td>0</td>\n",
       "      <td>0</td>\n",
       "      <td>0.0</td>\n",
       "      <td>0.0</td>\n",
       "      <td>0.0</td>\n",
       "      <td>0</td>\n",
       "      <td>0</td>\n",
       "      <td>0</td>\n",
       "      <td>0</td>\n",
       "      <td>1</td>\n",
       "      <td>0</td>\n",
       "      <td>0.0</td>\n",
       "      <td>0</td>\n",
       "      <td>0</td>\n",
       "      <td>1</td>\n",
       "    </tr>\n",
       "    <tr>\n",
       "      <th>4</th>\n",
       "      <td>2014-08-12</td>\n",
       "      <td>new_confirmed</td>\n",
       "      <td>0</td>\n",
       "      <td>9</td>\n",
       "      <td>0.0</td>\n",
       "      <td>0.0</td>\n",
       "      <td>0.0</td>\n",
       "      <td>0</td>\n",
       "      <td>0</td>\n",
       "      <td>2</td>\n",
       "      <td>0</td>\n",
       "      <td>0</td>\n",
       "      <td>0</td>\n",
       "      <td>0.0</td>\n",
       "      <td>0</td>\n",
       "      <td>0</td>\n",
       "      <td>11</td>\n",
       "    </tr>\n",
       "  </tbody>\n",
       "</table>\n",
       "</div>"
      ],
      "text/plain": [
       "         date       variable Kailahun  Kenema      Kono    Kambia  Koinadugu  \\\n",
       "0  2014-08-12     population   465048  653013  325003.0  341690.0   335471.0   \n",
       "1  2014-08-12    new_noncase        0       3       0.0       0.0        0.0   \n",
       "2  2014-08-12  new_suspected        0       9       0.0       0.0        0.0   \n",
       "3  2014-08-12   new_probable        0       0       0.0       0.0        0.0   \n",
       "4  2014-08-12  new_confirmed        0       9       0.0       0.0        0.0   \n",
       "\n",
       "  Bombali Tonkolili Port Loko Pujehun      Bo Moyamba    Bonthe  \\\n",
       "0  494139    434937    557978  335574  654142  278119  168729.0   \n",
       "1       0         0         1       0       0       0       0.0   \n",
       "2       0         0         0       0       1       0       0.0   \n",
       "3       0         0         0       0       1       0       0.0   \n",
       "4       0         0         2       0       0       0       0.0   \n",
       "\n",
       "  Western area urban Western area rural National  \n",
       "0            1040888             263619  6348350  \n",
       "1                  0                  0        4  \n",
       "2                  0                  0       10  \n",
       "3                  0                  0        1  \n",
       "4                  0                  0       11  "
      ]
     },
     "execution_count": 4,
     "metadata": {},
     "output_type": "execute_result"
    }
   ],
   "source": [
    "import pandas as pd\n",
    "pd.read_csv('../data/ebola/sl_data/2014-08-12-v77.csv').head()"
   ]
  },
  {
   "cell_type": "markdown",
   "metadata": {},
   "source": [
    "From these data files, use pandas to import them and create a single data frame that includes the daily totals of new cases and deaths for each country. From this dataset, create a visualization that shows the dynamics of the outbreak across countries."
   ]
  },
  {
   "cell_type": "code",
   "execution_count": 1,
   "metadata": {
    "collapsed": true
   },
   "outputs": [],
   "source": [
    "# Write your answer here"
   ]
  }
 ],
 "metadata": {
  "kernelspec": {
   "display_name": "Python 3",
   "language": "python",
   "name": "python3"
  },
  "language_info": {
   "codemirror_mode": {
    "name": "ipython",
    "version": 3
   },
   "file_extension": ".py",
   "mimetype": "text/x-python",
   "name": "python",
   "nbconvert_exporter": "python",
   "pygments_lexer": "ipython3",
   "version": "3.6.1"
  }
 },
 "nbformat": 4,
 "nbformat_minor": 2
}
