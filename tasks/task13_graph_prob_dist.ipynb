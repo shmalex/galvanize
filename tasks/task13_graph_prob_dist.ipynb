{
 "cells": [
  {
   "cell_type": "markdown",
   "metadata": {
    "collapsed": true
   },
   "source": [
    "For each of the following distributions:\n",
    "\n",
    "Bernoulli\n",
    "\n",
    "Binomial\n",
    "\n",
    "Poisson\n",
    "\n",
    "Gaussian\n",
    "\n",
    "Uniform\n",
    "\n",
    "Beta\n",
    "\n",
    "A) Read up on what the formula for the probability distribution is and what sorts of problems it is used for\n",
    "\n",
    "B) use Python, matplotlib and the scipy.stats to plot at least 2 unique parameters(or sets of parameters) for each distribution\n",
    "\n",
    "C) Wrte a blog post summarizing A and B above for at least 3 of the distributions, post online, and provide a link to the comments by 6pm today. \n",
    "\n",
    "You may use the entire internet to figure out what these distributions do. \n",
    "Note: Here are examples of a  sample short blog post here, just for reference \n",
    "(http://muthu.co/poisson-distribution-with-python/) (http://hamelg.blogspot.com/2015/11/python-for-data-analysis-part-22.html). \n",
    "You do not have to follow these models if you don't want to. Also, you don't have to write the formula, you can just provide your simple graphing code and a reference link to the formula (for example, from wikipedia)"
   ]
  },
  {
   "cell_type": "code",
   "execution_count": null,
   "metadata": {},
   "outputs": [],
   "source": []
  }
 ],
 "metadata": {
  "kernelspec": {
   "display_name": "Python 3.6",
   "language": "python",
   "name": "python36"
  },
  "language_info": {
   "codemirror_mode": {
    "name": "ipython",
    "version": 3
   },
   "file_extension": ".py",
   "mimetype": "text/x-python",
   "name": "python",
   "nbconvert_exporter": "python",
   "pygments_lexer": "ipython3",
   "version": "3.6.3"
  }
 },
 "nbformat": 4,
 "nbformat_minor": 2
}
