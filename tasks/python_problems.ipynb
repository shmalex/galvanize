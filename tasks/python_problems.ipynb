{
 "cells": [
  {
   "cell_type": "markdown",
   "metadata": {},
   "source": [
    "This file should be completed before the *beginning* of class on Saturday Feb 17th.\n",
    "Open book, open notes, open internet!"
   ]
  },
  {
   "cell_type": "code",
   "execution_count": 10,
   "metadata": {},
   "outputs": [
    {
     "name": "stdout",
     "output_type": "stream",
     "text": [
      "[3, 4, 9]\n",
      "[3, 4, 9]\n",
      "[3, 4, 9]\n"
     ]
    }
   ],
   "source": [
    "## Write each function below according to the docstring.\n",
    "\n",
    "\n",
    "def max_lists(list1, list2):\n",
    "    \"\"\"\n",
    "    list1 and list2 have the same length.\n",
    "    Return a list which contains, for each index,\n",
    "    the maximum element of both list at this index.\n",
    "\n",
    "    Parameters\n",
    "    ----------\n",
    "    list1 : {list} of numeric values\n",
    "    list2 : {list} of numeric values\n",
    "\n",
    "    Returns\n",
    "    -------\n",
    "    {list} : list of maximum values for each index of list1,list2\n",
    "\n",
    "    Example\n",
    "    -------\n",
    "    >>> max_lists([1, 4, 8], [3, 1, 9])\n",
    "    [3, 4, 9]\n",
    "    >>> max_lists([5, 7, 2, 3, 6], [3, 9, 1, 2, 8])\n",
    "    [5, 9, 2, 3, 8]\n",
    "    \"\"\"\n",
    "    # long version\n",
    "\n",
    "    ret = []\n",
    "    for pair in list(zip(list1, list2)):\n",
    "        ret.append(max(pair))\n",
    "    return ret\n",
    "\n",
    "def max_list_v1(list1, list2):\n",
    "    return [max(pair) for pair in list(zip(list1, list2))]\n",
    "\n",
    "def max_list_v2(list1, list2):\n",
    "    for list1_pair in enumerate(list1):\n",
    "        yield max(list2[list1_pair[0]],  list1_pair[1])\n",
    "\n",
    "v = max_lists([1, 4, 8], [3, 1, 9])\n",
    "print(v)\n",
    "v1 = max_list_v1([1, 4, 8], [3, 1, 9])\n",
    "print(v1)\n",
    "\n",
    "v2 = max_list_v2([1, 4, 8], [3, 1, 9])\n",
    "print(list(v2))"
   ]
  },
  {
   "cell_type": "code",
   "execution_count": 16,
   "metadata": {},
   "outputs": [
    {
     "name": "stdout",
     "output_type": "stream",
     "text": [
      "[1, 4]\n"
     ]
    }
   ],
   "source": [
    "def get_diagonal(mat):\n",
    "    \"\"\"\n",
    "    Given a matrix encoded as a 2 dimensional python list, return a list\n",
    "    containing all the values in the diagonal starting at the index 0, 0.\n",
    "\n",
    "    Parameters\n",
    "    ----------\n",
    "    mat : 2 dimensional list ({list} of {list} of numeric values)\n",
    "\n",
    "    Returns\n",
    "    -------\n",
    "    {list} : values in the diagonal\n",
    "\n",
    "    Example\n",
    "    -------\n",
    "    E.g.\n",
    "    mat = [[1, 2], [3, 4], [5, 6]]\n",
    "    | 1  2 |\n",
    "    | 3  4 |\n",
    "    | 5  6 |\n",
    "    get_diagonal(mat) => [1, 4]\n",
    "\n",
    "    You may assume that the matrix is nonempty.\n",
    "\n",
    "    >>> get_diagonal([[1, 2], [3, 4], [5, 6]])\n",
    "    [1, 4]\n",
    "    \"\"\"\n",
    "    max_i = max(len(mat), len(mat[0]))-1\n",
    "    ret = list()\n",
    "    for x in range(max_i):\n",
    "        ret.append(mat[x][x])\n",
    "    return ret\n",
    "gd = get_diagonal([[1, 2], [3, 4], [5, 6]])\n",
    "print(gd)"
   ]
  },
  {
   "cell_type": "code",
   "execution_count": 34,
   "metadata": {},
   "outputs": [
    {
     "name": "stdout",
     "output_type": "stream",
     "text": [
      "{'a': 1, 'b': 5, 'c': 1, 'e': 8}\n"
     ]
    }
   ],
   "source": [
    "def merge_dictionaries(d1, d2):\n",
    "    \"\"\"\n",
    "    Return a new dictionary which contains all the keys from d1 and d2 with\n",
    "    their associated values. If a key is in both dictionaries, the value should\n",
    "    be the sum of the two values.\n",
    "\n",
    "    Parameters\n",
    "    ----------\n",
    "    d1 : {dict}\n",
    "    d2 : {dict}\n",
    "\n",
    "    Returns\n",
    "    -------\n",
    "    {dict} : values in the diagonal\n",
    "\n",
    "    Example\n",
    "    -------\n",
    "    >>> d1 = {\"a\": 1, \"b\": 5, \"c\": 1, \"e\": 8}\n",
    "    >>> d2 = {\"b\": 2, \"c\": 5, \"d\": 10, \"f\": 6}\n",
    "    >>> merge_dictionaries(d1,d2) == {\"a\": 1, \"b\": 7, \"c\": 6, \"d\": 10, \"e\": 8, \"f\": 6}\n",
    "    True\n",
    "    \"\"\"\n",
    "    \n",
    "    keys = set(list(d1.keys()) + list(d2.keys()))\n",
    "    ret = {}\n",
    "    for key in keys:\n",
    "        ret[key] = d1.get(key,0) + d2.get(key,0)\n",
    "    return ret\n",
    "\n",
    "d1 = {\"a\": 1, \"b\": 5, \"c\": 1, \"e\": 8}\n",
    "d2 = {\"b\": 2, \"c\": 5, \"d\": 10, \"f\": 6}\n",
    "    \n",
    "merge_dictionaries(d1,d2) == {\"a\": 1, \"b\": 7, \"c\": 6, \"d\": 10, \"e\": 8, \"f\": 6}\n",
    "print(d1)\n"
   ]
  },
  {
   "cell_type": "code",
   "execution_count": 51,
   "metadata": {},
   "outputs": [
    {
     "name": "stdout",
     "output_type": "stream",
     "text": [
      "{'G': [0, 1], 'o': [2], 's': [3, 4, 5, 6], 'C': [8], 'i': [9], 'P': [11], 'f': [13], 'R': [15], 'E': [19]}\n"
     ]
    }
   ],
   "source": [
    "def make_char_dict(filename):\n",
    "    \"\"\"\n",
    "    Given a file containing rows of text, create a dictionary with keys\n",
    "    of single characters. The value is a list of all the line numbers which\n",
    "    start with that letter. The first line should have line number 1.\n",
    "    Characters which never are the first letter of a line do not need to be\n",
    "    included in your dictionary.\n",
    "\n",
    "    Parameters\n",
    "    ----------\n",
    "    filename : {string} indicating path to file\n",
    "\n",
    "    Returns\n",
    "    -------\n",
    "    {dict} : keys are {str} and values are {list}\n",
    "\n",
    "    Example\n",
    "    -------\n",
    "    >>> result = make_char_dict('data/people.txt')\n",
    "    >>> result['j']\n",
    "    [2, 19, 20]\n",
    "    >>> result['g']\n",
    "    [3]\n",
    "    \"\"\"\n",
    "    ret = {}\n",
    "    with open(filename) as f:\n",
    "        for linepair in enumerate(f):\n",
    "            c = linepair[1][0]\n",
    "            if c.isalpha():\n",
    "                ret.setdefault(c,[]).append(linepair[0])\n",
    "    return ret\n",
    "result = make_char_dict('data/people.txt')\n",
    "print(result)"
   ]
  },
  {
   "cell_type": "code",
   "execution_count": null,
   "metadata": {},
   "outputs": [],
   "source": []
  }
 ],
 "metadata": {
  "kernelspec": {
   "display_name": "Python 3.6",
   "language": "python",
   "name": "python36"
  },
  "language_info": {
   "codemirror_mode": {
    "name": "ipython",
    "version": 3
   },
   "file_extension": ".py",
   "mimetype": "text/x-python",
   "name": "python",
   "nbconvert_exporter": "python",
   "pygments_lexer": "ipython3",
   "version": "3.6.3"
  }
 },
 "nbformat": 4,
 "nbformat_minor": 2
}
